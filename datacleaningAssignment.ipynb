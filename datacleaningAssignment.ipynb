{
 "cells": [
  {
   "cell_type": "code",
   "execution_count": 4,
   "id": "6d8a6c51",
   "metadata": {},
   "outputs": [],
   "source": [
    "#########1.Describe statistical information of the dataset features.\n",
    "#What is population?\n",
    "# A population is the collection of all outcomes,responses,measurements or counts that are of interest\n",
    "\n",
    "# What is a sample?\n",
    "# A sample is a subset or part of the population.\n"
   ]
  },
  {
   "cell_type": "code",
   "execution_count": 7,
   "id": "5b2335bb",
   "metadata": {},
   "outputs": [
    {
     "data": {
      "text/html": [
       "<div>\n",
       "<style scoped>\n",
       "    .dataframe tbody tr th:only-of-type {\n",
       "        vertical-align: middle;\n",
       "    }\n",
       "\n",
       "    .dataframe tbody tr th {\n",
       "        vertical-align: top;\n",
       "    }\n",
       "\n",
       "    .dataframe thead th {\n",
       "        text-align: right;\n",
       "    }\n",
       "</style>\n",
       "<table border=\"1\" class=\"dataframe\">\n",
       "  <thead>\n",
       "    <tr style=\"text-align: right;\">\n",
       "      <th></th>\n",
       "      <th>Entity</th>\n",
       "      <th>Code</th>\n",
       "      <th>Year</th>\n",
       "      <th>Global Hunger Index (2021)</th>\n",
       "      <th>411773-annotations</th>\n",
       "    </tr>\n",
       "  </thead>\n",
       "  <tbody>\n",
       "    <tr>\n",
       "      <th>0</th>\n",
       "      <td>Afghanistan</td>\n",
       "      <td>AFG</td>\n",
       "      <td>2000</td>\n",
       "      <td>50.9</td>\n",
       "      <td>NaN</td>\n",
       "    </tr>\n",
       "    <tr>\n",
       "      <th>1</th>\n",
       "      <td>Afghanistan</td>\n",
       "      <td>AFG</td>\n",
       "      <td>2006</td>\n",
       "      <td>42.7</td>\n",
       "      <td>NaN</td>\n",
       "    </tr>\n",
       "    <tr>\n",
       "      <th>2</th>\n",
       "      <td>Afghanistan</td>\n",
       "      <td>AFG</td>\n",
       "      <td>2012</td>\n",
       "      <td>34.3</td>\n",
       "      <td>NaN</td>\n",
       "    </tr>\n",
       "    <tr>\n",
       "      <th>3</th>\n",
       "      <td>Afghanistan</td>\n",
       "      <td>AFG</td>\n",
       "      <td>2021</td>\n",
       "      <td>28.3</td>\n",
       "      <td>NaN</td>\n",
       "    </tr>\n",
       "    <tr>\n",
       "      <th>4</th>\n",
       "      <td>Albania</td>\n",
       "      <td>ALB</td>\n",
       "      <td>2000</td>\n",
       "      <td>20.7</td>\n",
       "      <td>NaN</td>\n",
       "    </tr>\n",
       "    <tr>\n",
       "      <th>...</th>\n",
       "      <td>...</td>\n",
       "      <td>...</td>\n",
       "      <td>...</td>\n",
       "      <td>...</td>\n",
       "      <td>...</td>\n",
       "    </tr>\n",
       "    <tr>\n",
       "      <th>466</th>\n",
       "      <td>Yemen</td>\n",
       "      <td>YEM</td>\n",
       "      <td>2006</td>\n",
       "      <td>38.8</td>\n",
       "      <td>NaN</td>\n",
       "    </tr>\n",
       "    <tr>\n",
       "      <th>467</th>\n",
       "      <td>Yemen</td>\n",
       "      <td>YEM</td>\n",
       "      <td>2012</td>\n",
       "      <td>38.4</td>\n",
       "      <td>NaN</td>\n",
       "    </tr>\n",
       "    <tr>\n",
       "      <th>468</th>\n",
       "      <td>Yemen</td>\n",
       "      <td>YEM</td>\n",
       "      <td>2021</td>\n",
       "      <td>45.1</td>\n",
       "      <td>NaN</td>\n",
       "    </tr>\n",
       "    <tr>\n",
       "      <th>469</th>\n",
       "      <td>Zambia</td>\n",
       "      <td>ZMB</td>\n",
       "      <td>2021</td>\n",
       "      <td>27.5</td>\n",
       "      <td>Value represents the mid-point of its group in...</td>\n",
       "    </tr>\n",
       "    <tr>\n",
       "      <th>470</th>\n",
       "      <td>Zimbabwe</td>\n",
       "      <td>ZWE</td>\n",
       "      <td>2021</td>\n",
       "      <td>27.5</td>\n",
       "      <td>Value represents the mid-point of its group in...</td>\n",
       "    </tr>\n",
       "  </tbody>\n",
       "</table>\n",
       "<p>471 rows × 5 columns</p>\n",
       "</div>"
      ],
      "text/plain": [
       "          Entity Code  Year  Global Hunger Index (2021)  \\\n",
       "0    Afghanistan  AFG  2000                        50.9   \n",
       "1    Afghanistan  AFG  2006                        42.7   \n",
       "2    Afghanistan  AFG  2012                        34.3   \n",
       "3    Afghanistan  AFG  2021                        28.3   \n",
       "4        Albania  ALB  2000                        20.7   \n",
       "..           ...  ...   ...                         ...   \n",
       "466        Yemen  YEM  2006                        38.8   \n",
       "467        Yemen  YEM  2012                        38.4   \n",
       "468        Yemen  YEM  2021                        45.1   \n",
       "469       Zambia  ZMB  2021                        27.5   \n",
       "470     Zimbabwe  ZWE  2021                        27.5   \n",
       "\n",
       "                                    411773-annotations  \n",
       "0                                                  NaN  \n",
       "1                                                  NaN  \n",
       "2                                                  NaN  \n",
       "3                                                  NaN  \n",
       "4                                                  NaN  \n",
       "..                                                 ...  \n",
       "466                                                NaN  \n",
       "467                                                NaN  \n",
       "468                                                NaN  \n",
       "469  Value represents the mid-point of its group in...  \n",
       "470  Value represents the mid-point of its group in...  \n",
       "\n",
       "[471 rows x 5 columns]"
      ]
     },
     "execution_count": 7,
     "metadata": {},
     "output_type": "execute_result"
    }
   ],
   "source": [
    "df=pd.read_csv('/Users/apple/documents/GeetaChoudhary/extra/archive (7)/global-hunger-index.csv')\n",
    "df"
   ]
  },
  {
   "cell_type": "code",
   "execution_count": null,
   "id": "e2d4d1bd",
   "metadata": {},
   "outputs": [],
   "source": []
  },
  {
   "cell_type": "code",
   "execution_count": 8,
   "id": "ff503719",
   "metadata": {},
   "outputs": [
    {
     "data": {
      "text/html": [
       "<div>\n",
       "<style scoped>\n",
       "    .dataframe tbody tr th:only-of-type {\n",
       "        vertical-align: middle;\n",
       "    }\n",
       "\n",
       "    .dataframe tbody tr th {\n",
       "        vertical-align: top;\n",
       "    }\n",
       "\n",
       "    .dataframe thead th {\n",
       "        text-align: right;\n",
       "    }\n",
       "</style>\n",
       "<table border=\"1\" class=\"dataframe\">\n",
       "  <thead>\n",
       "    <tr style=\"text-align: right;\">\n",
       "      <th></th>\n",
       "      <th>Entity</th>\n",
       "      <th>Code</th>\n",
       "      <th>Year</th>\n",
       "      <th>Global Hunger Index (2021)</th>\n",
       "      <th>411773-annotations</th>\n",
       "    </tr>\n",
       "  </thead>\n",
       "  <tbody>\n",
       "    <tr>\n",
       "      <th>0</th>\n",
       "      <td>Afghanistan</td>\n",
       "      <td>AFG</td>\n",
       "      <td>2000</td>\n",
       "      <td>50.9</td>\n",
       "      <td>NaN</td>\n",
       "    </tr>\n",
       "    <tr>\n",
       "      <th>1</th>\n",
       "      <td>Afghanistan</td>\n",
       "      <td>AFG</td>\n",
       "      <td>2006</td>\n",
       "      <td>42.7</td>\n",
       "      <td>NaN</td>\n",
       "    </tr>\n",
       "    <tr>\n",
       "      <th>2</th>\n",
       "      <td>Afghanistan</td>\n",
       "      <td>AFG</td>\n",
       "      <td>2012</td>\n",
       "      <td>34.3</td>\n",
       "      <td>NaN</td>\n",
       "    </tr>\n",
       "    <tr>\n",
       "      <th>3</th>\n",
       "      <td>Afghanistan</td>\n",
       "      <td>AFG</td>\n",
       "      <td>2021</td>\n",
       "      <td>28.3</td>\n",
       "      <td>NaN</td>\n",
       "    </tr>\n",
       "    <tr>\n",
       "      <th>4</th>\n",
       "      <td>Albania</td>\n",
       "      <td>ALB</td>\n",
       "      <td>2000</td>\n",
       "      <td>20.7</td>\n",
       "      <td>NaN</td>\n",
       "    </tr>\n",
       "  </tbody>\n",
       "</table>\n",
       "</div>"
      ],
      "text/plain": [
       "        Entity Code  Year  Global Hunger Index (2021) 411773-annotations\n",
       "0  Afghanistan  AFG  2000                        50.9                NaN\n",
       "1  Afghanistan  AFG  2006                        42.7                NaN\n",
       "2  Afghanistan  AFG  2012                        34.3                NaN\n",
       "3  Afghanistan  AFG  2021                        28.3                NaN\n",
       "4      Albania  ALB  2000                        20.7                NaN"
      ]
     },
     "execution_count": 8,
     "metadata": {},
     "output_type": "execute_result"
    }
   ],
   "source": [
    "df.head()"
   ]
  },
  {
   "cell_type": "code",
   "execution_count": 9,
   "id": "bc23c762",
   "metadata": {},
   "outputs": [
    {
     "data": {
      "text/html": [
       "<div>\n",
       "<style scoped>\n",
       "    .dataframe tbody tr th:only-of-type {\n",
       "        vertical-align: middle;\n",
       "    }\n",
       "\n",
       "    .dataframe tbody tr th {\n",
       "        vertical-align: top;\n",
       "    }\n",
       "\n",
       "    .dataframe thead th {\n",
       "        text-align: right;\n",
       "    }\n",
       "</style>\n",
       "<table border=\"1\" class=\"dataframe\">\n",
       "  <thead>\n",
       "    <tr style=\"text-align: right;\">\n",
       "      <th></th>\n",
       "      <th>Entity</th>\n",
       "      <th>Code</th>\n",
       "      <th>Year</th>\n",
       "      <th>Global Hunger Index (2021)</th>\n",
       "      <th>411773-annotations</th>\n",
       "    </tr>\n",
       "  </thead>\n",
       "  <tbody>\n",
       "    <tr>\n",
       "      <th>466</th>\n",
       "      <td>Yemen</td>\n",
       "      <td>YEM</td>\n",
       "      <td>2006</td>\n",
       "      <td>38.8</td>\n",
       "      <td>NaN</td>\n",
       "    </tr>\n",
       "    <tr>\n",
       "      <th>467</th>\n",
       "      <td>Yemen</td>\n",
       "      <td>YEM</td>\n",
       "      <td>2012</td>\n",
       "      <td>38.4</td>\n",
       "      <td>NaN</td>\n",
       "    </tr>\n",
       "    <tr>\n",
       "      <th>468</th>\n",
       "      <td>Yemen</td>\n",
       "      <td>YEM</td>\n",
       "      <td>2021</td>\n",
       "      <td>45.1</td>\n",
       "      <td>NaN</td>\n",
       "    </tr>\n",
       "    <tr>\n",
       "      <th>469</th>\n",
       "      <td>Zambia</td>\n",
       "      <td>ZMB</td>\n",
       "      <td>2021</td>\n",
       "      <td>27.5</td>\n",
       "      <td>Value represents the mid-point of its group in...</td>\n",
       "    </tr>\n",
       "    <tr>\n",
       "      <th>470</th>\n",
       "      <td>Zimbabwe</td>\n",
       "      <td>ZWE</td>\n",
       "      <td>2021</td>\n",
       "      <td>27.5</td>\n",
       "      <td>Value represents the mid-point of its group in...</td>\n",
       "    </tr>\n",
       "  </tbody>\n",
       "</table>\n",
       "</div>"
      ],
      "text/plain": [
       "       Entity Code  Year  Global Hunger Index (2021)  \\\n",
       "466     Yemen  YEM  2006                        38.8   \n",
       "467     Yemen  YEM  2012                        38.4   \n",
       "468     Yemen  YEM  2021                        45.1   \n",
       "469    Zambia  ZMB  2021                        27.5   \n",
       "470  Zimbabwe  ZWE  2021                        27.5   \n",
       "\n",
       "                                    411773-annotations  \n",
       "466                                                NaN  \n",
       "467                                                NaN  \n",
       "468                                                NaN  \n",
       "469  Value represents the mid-point of its group in...  \n",
       "470  Value represents the mid-point of its group in...  "
      ]
     },
     "execution_count": 9,
     "metadata": {},
     "output_type": "execute_result"
    }
   ],
   "source": [
    "df.tail()"
   ]
  },
  {
   "cell_type": "code",
   "execution_count": 10,
   "id": "6d7361c7",
   "metadata": {},
   "outputs": [],
   "source": [
    "####2.Check on missing values and anomolies in the dataset. \n",
    "#Remove outliers and fix discrepencies in the datasat if present any \n",
    "#using appropriate statistical techniques. Make observations for the same.\n"
   ]
  },
  {
   "cell_type": "code",
   "execution_count": 11,
   "id": "e56738db",
   "metadata": {},
   "outputs": [
    {
     "data": {
      "text/plain": [
       "(471, 5)"
      ]
     },
     "execution_count": 11,
     "metadata": {},
     "output_type": "execute_result"
    }
   ],
   "source": [
    "df.shape"
   ]
  },
  {
   "cell_type": "code",
   "execution_count": 12,
   "id": "0b1827ac",
   "metadata": {},
   "outputs": [
    {
     "data": {
      "text/plain": [
       "Entity                         object\n",
       "Code                           object\n",
       "Year                            int64\n",
       "Global Hunger Index (2021)    float64\n",
       "411773-annotations             object\n",
       "dtype: object"
      ]
     },
     "execution_count": 12,
     "metadata": {},
     "output_type": "execute_result"
    }
   ],
   "source": [
    "df.dtypes"
   ]
  },
  {
   "cell_type": "code",
   "execution_count": 13,
   "id": "7fa539d3",
   "metadata": {
    "scrolled": true
   },
   "outputs": [
    {
     "data": {
      "text/plain": [
       "Entity                        False\n",
       "Code                          False\n",
       "Year                          False\n",
       "Global Hunger Index (2021)    False\n",
       "411773-annotations             True\n",
       "dtype: bool"
      ]
     },
     "execution_count": 13,
     "metadata": {},
     "output_type": "execute_result"
    }
   ],
   "source": [
    "df.isnull().any()"
   ]
  },
  {
   "cell_type": "code",
   "execution_count": 14,
   "id": "62237f9a",
   "metadata": {},
   "outputs": [
    {
     "data": {
      "text/plain": [
       "Entity                          0\n",
       "Code                            0\n",
       "Year                            0\n",
       "Global Hunger Index (2021)      0\n",
       "411773-annotations            459\n",
       "dtype: int64"
      ]
     },
     "execution_count": 14,
     "metadata": {},
     "output_type": "execute_result"
    }
   ],
   "source": [
    "df.isnull().sum()"
   ]
  },
  {
   "cell_type": "code",
   "execution_count": 15,
   "id": "8f352934",
   "metadata": {},
   "outputs": [],
   "source": [
    "df.fillna(0,inplace=True)"
   ]
  },
  {
   "cell_type": "code",
   "execution_count": 16,
   "id": "f9d216f5",
   "metadata": {},
   "outputs": [
    {
     "data": {
      "text/plain": [
       "False"
      ]
     },
     "execution_count": 16,
     "metadata": {},
     "output_type": "execute_result"
    }
   ],
   "source": [
    "df['411773-annotations'].isnull().any()"
   ]
  },
  {
   "cell_type": "code",
   "execution_count": 17,
   "id": "022dffbb",
   "metadata": {},
   "outputs": [
    {
     "data": {
      "text/plain": [
       "array([0,\n",
       "       'Value represents the mid-point of its group in the GHI severity scale'],\n",
       "      dtype=object)"
      ]
     },
     "execution_count": 17,
     "metadata": {},
     "output_type": "execute_result"
    }
   ],
   "source": [
    "df['411773-annotations'].unique()"
   ]
  },
  {
   "cell_type": "code",
   "execution_count": 18,
   "id": "0f0f4453",
   "metadata": {},
   "outputs": [
    {
     "name": "stdout",
     "output_type": "stream",
     "text": [
      "<class 'pandas.core.frame.DataFrame'>\n",
      "RangeIndex: 471 entries, 0 to 470\n",
      "Data columns (total 5 columns):\n",
      " #   Column                      Non-Null Count  Dtype  \n",
      "---  ------                      --------------  -----  \n",
      " 0   Entity                      471 non-null    object \n",
      " 1   Code                        471 non-null    object \n",
      " 2   Year                        471 non-null    int64  \n",
      " 3   Global Hunger Index (2021)  471 non-null    float64\n",
      " 4   411773-annotations          471 non-null    object \n",
      "dtypes: float64(1), int64(1), object(3)\n",
      "memory usage: 18.5+ KB\n"
     ]
    }
   ],
   "source": [
    "df.info()"
   ]
  },
  {
   "cell_type": "code",
   "execution_count": 19,
   "id": "b138e68c",
   "metadata": {},
   "outputs": [
    {
     "data": {
      "text/html": [
       "<div>\n",
       "<style scoped>\n",
       "    .dataframe tbody tr th:only-of-type {\n",
       "        vertical-align: middle;\n",
       "    }\n",
       "\n",
       "    .dataframe tbody tr th {\n",
       "        vertical-align: top;\n",
       "    }\n",
       "\n",
       "    .dataframe thead th {\n",
       "        text-align: right;\n",
       "    }\n",
       "</style>\n",
       "<table border=\"1\" class=\"dataframe\">\n",
       "  <thead>\n",
       "    <tr style=\"text-align: right;\">\n",
       "      <th></th>\n",
       "      <th>Year</th>\n",
       "      <th>Global Hunger Index (2021)</th>\n",
       "    </tr>\n",
       "  </thead>\n",
       "  <tbody>\n",
       "    <tr>\n",
       "      <th>count</th>\n",
       "      <td>471.000000</td>\n",
       "      <td>471.000000</td>\n",
       "    </tr>\n",
       "    <tr>\n",
       "      <th>mean</th>\n",
       "      <td>2010.127389</td>\n",
       "      <td>19.824628</td>\n",
       "    </tr>\n",
       "    <tr>\n",
       "      <th>std</th>\n",
       "      <td>7.852951</td>\n",
       "      <td>13.449570</td>\n",
       "    </tr>\n",
       "    <tr>\n",
       "      <th>min</th>\n",
       "      <td>2000.000000</td>\n",
       "      <td>2.500000</td>\n",
       "    </tr>\n",
       "    <tr>\n",
       "      <th>25%</th>\n",
       "      <td>2006.000000</td>\n",
       "      <td>8.800000</td>\n",
       "    </tr>\n",
       "    <tr>\n",
       "      <th>50%</th>\n",
       "      <td>2012.000000</td>\n",
       "      <td>17.000000</td>\n",
       "    </tr>\n",
       "    <tr>\n",
       "      <th>75%</th>\n",
       "      <td>2021.000000</td>\n",
       "      <td>28.550000</td>\n",
       "    </tr>\n",
       "    <tr>\n",
       "      <th>max</th>\n",
       "      <td>2021.000000</td>\n",
       "      <td>65.100000</td>\n",
       "    </tr>\n",
       "  </tbody>\n",
       "</table>\n",
       "</div>"
      ],
      "text/plain": [
       "              Year  Global Hunger Index (2021)\n",
       "count   471.000000                  471.000000\n",
       "mean   2010.127389                   19.824628\n",
       "std       7.852951                   13.449570\n",
       "min    2000.000000                    2.500000\n",
       "25%    2006.000000                    8.800000\n",
       "50%    2012.000000                   17.000000\n",
       "75%    2021.000000                   28.550000\n",
       "max    2021.000000                   65.100000"
      ]
     },
     "execution_count": 19,
     "metadata": {},
     "output_type": "execute_result"
    }
   ],
   "source": [
    "df.describe()"
   ]
  },
  {
   "cell_type": "code",
   "execution_count": 20,
   "id": "80036176",
   "metadata": {},
   "outputs": [
    {
     "data": {
      "text/plain": [
       "Entity                        0\n",
       "Code                          0\n",
       "Year                          0\n",
       "Global Hunger Index (2021)    0\n",
       "411773-annotations            0\n",
       "dtype: int64"
      ]
     },
     "execution_count": 20,
     "metadata": {},
     "output_type": "execute_result"
    }
   ],
   "source": [
    "df.isnull().sum()"
   ]
  },
  {
   "cell_type": "code",
   "execution_count": 21,
   "id": "969acb25",
   "metadata": {},
   "outputs": [
    {
     "name": "stderr",
     "output_type": "stream",
     "text": [
      "/var/folders/rr/88ggfs5x1rn2hb7hryjtnk680000gn/T/ipykernel_1746/2115624055.py:9: UserWarning: \n",
      "\n",
      "`distplot` is a deprecated function and will be removed in seaborn v0.14.0.\n",
      "\n",
      "Please adapt your code to use either `displot` (a figure-level function with\n",
      "similar flexibility) or `histplot` (an axes-level function for histograms).\n",
      "\n",
      "For a guide to updating your code to use the new functions, please see\n",
      "https://gist.github.com/mwaskom/de44147ed2974457ad6372750bbe5751\n",
      "\n",
      "  sns.distplot(df['Global Hunger Index (2021)'])\n"
     ]
    },
    {
     "data": {
      "image/png": "[encoded data removed]",
      "text/plain": [
       "<Figure size 1600x500 with 1 Axes>"
      ]
     },
     "metadata": {},
     "output_type": "display_data"
    }
   ],
   "source": [
    "###outlier dedection and removes it\n",
    "###\n",
    "# def plotvariable(df,variable):\n",
    "plt.figure(figsize=(16,5))\n",
    "# plt.subplot(1,2,1)\n",
    "# sns.distplot(df['year'])\n",
    "    \n",
    "plt.subplot(1,2,2)\n",
    "sns.distplot(df['Global Hunger Index (2021)'])\n",
    "plt.show()\n",
    "\n",
    "# plt.subplot(1,2,2)\n",
    "# sns.displot(df['Global Hunger Index (2021)'])\n",
    "# plt.show()\n",
    "\n",
    "# plt.subplot(1,2,2)\n",
    "# sns.histplot(df['Global Hunger Index (2021)'])\n",
    "# plt.show()\n",
    "\n"
   ]
  },
  {
   "cell_type": "code",
   "execution_count": 22,
   "id": "6f500751",
   "metadata": {},
   "outputs": [
    {
     "data": {
      "text/plain": [
       "<AxesSubplot: >"
      ]
     },
     "execution_count": 22,
     "metadata": {},
     "output_type": "execute_result"
    },
    {
     "data": {
      "image/png": "[encoded data removed]",
      "text/plain": [
       "<Figure size 640x480 with 1 Axes>"
      ]
     },
     "metadata": {},
     "output_type": "display_data"
    }
   ],
   "source": [
    "sns.boxplot(df['Global Hunger Index (2021)'])"
   ]
  },
  {
   "cell_type": "code",
   "execution_count": 23,
   "id": "30ea381d",
   "metadata": {},
   "outputs": [
    {
     "data": {
      "text/plain": [
       "count    471.000000\n",
       "mean      19.824628\n",
       "std       13.449570\n",
       "min        2.500000\n",
       "25%        8.800000\n",
       "50%       17.000000\n",
       "75%       28.550000\n",
       "max       65.100000\n",
       "Name: Global Hunger Index (2021), dtype: float64"
      ]
     },
     "execution_count": 23,
     "metadata": {},
     "output_type": "execute_result"
    }
   ],
   "source": [
    "df['Global Hunger Index (2021)'].describe()"
   ]
  },
  {
   "cell_type": "code",
   "execution_count": 24,
   "id": "5113aaa3",
   "metadata": {},
   "outputs": [],
   "source": [
    "#finding IQR\n",
    "percentile25=df['Global Hunger Index (2021)'].quantile(0.25)\n",
    "percentile75=df['Global Hunger Index (2021)'].quantile(0.75)\n"
   ]
  },
  {
   "cell_type": "code",
   "execution_count": 25,
   "id": "c4733968",
   "metadata": {},
   "outputs": [
    {
     "data": {
      "text/plain": [
       "8.8"
      ]
     },
     "execution_count": 25,
     "metadata": {},
     "output_type": "execute_result"
    }
   ],
   "source": [
    "percentile25"
   ]
  },
  {
   "cell_type": "code",
   "execution_count": 26,
   "id": "23a6c6b0",
   "metadata": {},
   "outputs": [
    {
     "data": {
      "text/plain": [
       "28.55"
      ]
     },
     "execution_count": 26,
     "metadata": {},
     "output_type": "execute_result"
    }
   ],
   "source": [
    "percentile75"
   ]
  },
  {
   "cell_type": "code",
   "execution_count": 27,
   "id": "77a40ba8",
   "metadata": {},
   "outputs": [
    {
     "name": "stdout",
     "output_type": "stream",
     "text": [
      "19.75\n"
     ]
    }
   ],
   "source": [
    "iqr = (percentile75-percentile25)\n",
    "print(iqr)"
   ]
  },
  {
   "cell_type": "raw",
   "id": "86fb67c9",
   "metadata": {},
   "source": []
  },
  {
   "cell_type": "code",
   "execution_count": 28,
   "id": "5095c87f",
   "metadata": {},
   "outputs": [],
   "source": [
    "upper_limit=percentile75+1.5*iqr\n",
    "lower_limit=percentile25-1.5*iqr"
   ]
  },
  {
   "cell_type": "code",
   "execution_count": 29,
   "id": "614050f7",
   "metadata": {},
   "outputs": [
    {
     "name": "stdout",
     "output_type": "stream",
     "text": [
      "upper_limit 58.175\n",
      "lower_limit -20.825\n"
     ]
    }
   ],
   "source": [
    "print(\"upper_limit\",upper_limit)\n",
    "print(\"lower_limit\",lower_limit)"
   ]
  },
  {
   "cell_type": "code",
   "execution_count": 30,
   "id": "3dc0aa10",
   "metadata": {},
   "outputs": [
    {
     "data": {
      "text/html": [
       "<div>\n",
       "<style scoped>\n",
       "    .dataframe tbody tr th:only-of-type {\n",
       "        vertical-align: middle;\n",
       "    }\n",
       "\n",
       "    .dataframe tbody tr th {\n",
       "        vertical-align: top;\n",
       "    }\n",
       "\n",
       "    .dataframe thead th {\n",
       "        text-align: right;\n",
       "    }\n",
       "</style>\n",
       "<table border=\"1\" class=\"dataframe\">\n",
       "  <thead>\n",
       "    <tr style=\"text-align: right;\">\n",
       "      <th></th>\n",
       "      <th>Entity</th>\n",
       "      <th>Code</th>\n",
       "      <th>Year</th>\n",
       "      <th>Global Hunger Index (2021)</th>\n",
       "      <th>411773-annotations</th>\n",
       "    </tr>\n",
       "  </thead>\n",
       "  <tbody>\n",
       "    <tr>\n",
       "      <th>12</th>\n",
       "      <td>Angola</td>\n",
       "      <td>AGO</td>\n",
       "      <td>2000</td>\n",
       "      <td>65.0</td>\n",
       "      <td>0</td>\n",
       "    </tr>\n",
       "    <tr>\n",
       "      <th>394</th>\n",
       "      <td>Somalia</td>\n",
       "      <td>SOM</td>\n",
       "      <td>2012</td>\n",
       "      <td>65.1</td>\n",
       "      <td>0</td>\n",
       "    </tr>\n",
       "  </tbody>\n",
       "</table>\n",
       "</div>"
      ],
      "text/plain": [
       "      Entity Code  Year  Global Hunger Index (2021) 411773-annotations\n",
       "12    Angola  AGO  2000                        65.0                  0\n",
       "394  Somalia  SOM  2012                        65.1                  0"
      ]
     },
     "execution_count": 30,
     "metadata": {},
     "output_type": "execute_result"
    }
   ],
   "source": [
    "##finding outlier\n",
    "df[df['Global Hunger Index (2021)']>upper_limit]\n",
    "# this will include data points which are not outliers "
   ]
  },
  {
   "cell_type": "code",
   "execution_count": 31,
   "id": "0c545016",
   "metadata": {},
   "outputs": [
    {
     "data": {
      "text/html": [
       "<div>\n",
       "<style scoped>\n",
       "    .dataframe tbody tr th:only-of-type {\n",
       "        vertical-align: middle;\n",
       "    }\n",
       "\n",
       "    .dataframe tbody tr th {\n",
       "        vertical-align: top;\n",
       "    }\n",
       "\n",
       "    .dataframe thead th {\n",
       "        text-align: right;\n",
       "    }\n",
       "</style>\n",
       "<table border=\"1\" class=\"dataframe\">\n",
       "  <thead>\n",
       "    <tr style=\"text-align: right;\">\n",
       "      <th></th>\n",
       "      <th>Entity</th>\n",
       "      <th>Code</th>\n",
       "      <th>Year</th>\n",
       "      <th>Global Hunger Index (2021)</th>\n",
       "      <th>411773-annotations</th>\n",
       "    </tr>\n",
       "  </thead>\n",
       "  <tbody>\n",
       "  </tbody>\n",
       "</table>\n",
       "</div>"
      ],
      "text/plain": [
       "Empty DataFrame\n",
       "Columns: [Entity, Code, Year, Global Hunger Index (2021), 411773-annotations]\n",
       "Index: []"
      ]
     },
     "execution_count": 31,
     "metadata": {},
     "output_type": "execute_result"
    }
   ],
   "source": [
    "df[df['Global Hunger Index (2021)']<lower_limit]"
   ]
  },
  {
   "cell_type": "code",
   "execution_count": 32,
   "id": "65858cba",
   "metadata": {},
   "outputs": [],
   "source": [
    "\n",
    " \n",
    "df_no_outlier=df[df['Global Hunger Index (2021)']<upper_limit]\n"
   ]
  },
  {
   "cell_type": "code",
   "execution_count": 33,
   "id": "b35867f6",
   "metadata": {},
   "outputs": [
    {
     "data": {
      "text/plain": [
       "(469, 5)"
      ]
     },
     "execution_count": 33,
     "metadata": {},
     "output_type": "execute_result"
    }
   ],
   "source": [
    "df_no_outlier.shape"
   ]
  },
  {
   "cell_type": "code",
   "execution_count": 34,
   "id": "2e262f6f",
   "metadata": {},
   "outputs": [
    {
     "name": "stderr",
     "output_type": "stream",
     "text": [
      "/var/folders/rr/88ggfs5x1rn2hb7hryjtnk680000gn/T/ipykernel_1746/4177889443.py:3: UserWarning: \n",
      "\n",
      "`distplot` is a deprecated function and will be removed in seaborn v0.14.0.\n",
      "\n",
      "Please adapt your code to use either `displot` (a figure-level function with\n",
      "similar flexibility) or `histplot` (an axes-level function for histograms).\n",
      "\n",
      "For a guide to updating your code to use the new functions, please see\n",
      "https://gist.github.com/mwaskom/de44147ed2974457ad6372750bbe5751\n",
      "\n",
      "  sns.distplot(df_no_outlier['Global Hunger Index (2021)'])\n"
     ]
    },
    {
     "data": {
      "image/png": "[encoded data removed]",
      "text/plain": [
       "<Figure size 1600x500 with 1 Axes>"
      ]
     },
     "metadata": {},
     "output_type": "display_data"
    },
    {
     "data": {
      "text/plain": [
       "<AxesSubplot: >"
      ]
     },
     "execution_count": 34,
     "metadata": {},
     "output_type": "execute_result"
    },
    {
     "data": {
      "image/png": "[encoded data removed]",
      "text/plain": [
       "<Figure size 640x480 with 1 Axes>"
      ]
     },
     "metadata": {},
     "output_type": "display_data"
    }
   ],
   "source": [
    "plt.figure(figsize=(16,5))   \n",
    "plt.subplot(1,2,2)\n",
    "sns.distplot(df_no_outlier['Global Hunger Index (2021)'])\n",
    "plt.show()\n",
    "\n",
    "\n",
    "\n",
    "sns.boxplot(df_no_outlier['Global Hunger Index (2021)'])"
   ]
  },
  {
   "cell_type": "code",
   "execution_count": 289,
   "id": "c0a38893",
   "metadata": {},
   "outputs": [],
   "source": [
    "###### 3.Perform univariant,bivariant and multivariant analysis \n",
    "# and make observations(include visuals). \n",
    "#\n",
    "#\n",
    "#UNIVARIANT ANALYSIS\n",
    "\n",
    "# Univariant analysis, for numeric data types use distplot(histogram)\n",
    "#and for categorical data types use countplot\n",
    "\n"
   ]
  },
  {
   "cell_type": "code",
   "execution_count": 39,
   "id": "541c60cd",
   "metadata": {},
   "outputs": [
    {
     "ename": "SyntaxError",
     "evalue": "invalid syntax (797155315.py, line 1)",
     "output_type": "error",
     "traceback": [
      "\u001b[0;36m  Cell \u001b[0;32mIn[39], line 1\u001b[0;36m\u001b[0m\n\u001b[0;31m    plt.hist(df.Global Hunger Index,bins=20,rwidth=0.8)\u001b[0m\n\u001b[0m                       ^\u001b[0m\n\u001b[0;31mSyntaxError\u001b[0m\u001b[0;31m:\u001b[0m invalid syntax\n"
     ]
    }
   ],
   "source": [
    "plt.hist(df.Global Hunger Index,bins=20,rwidth=0.8)\n",
    "plt.xlabel('Global Hunger Index (2021)')\n",
    "plt.ylabel('Count')\n",
    "plt.show()"
   ]
  },
  {
   "cell_type": "code",
   "execution_count": 38,
   "id": "2858b472",
   "metadata": {},
   "outputs": [
    {
     "data": {
      "text/plain": [
       "<AxesSubplot: >"
      ]
     },
     "execution_count": 38,
     "metadata": {},
     "output_type": "execute_result"
    },
    {
     "data": {
      "image/png": "[encoded data removed]",
      "text/plain": [
       "<Figure size 640x480 with 1 Axes>"
      ]
     },
     "metadata": {},
     "output_type": "display_data"
    }
   ],
   "source": [
    "sns.boxplot(df['Global Hunger Index (2021)'])"
   ]
  },
  {
   "cell_type": "code",
   "execution_count": 292,
   "id": "2470da25",
   "metadata": {},
   "outputs": [
    {
     "data": {
      "text/plain": [
       "<AxesSubplot: xlabel='Entity', ylabel='count'>"
      ]
     },
     "execution_count": 292,
     "metadata": {},
     "output_type": "execute_result"
    },
    {
     "data": {
      "image/png": "[encoded data removed]",
      "text/plain": [
       "<Figure size 640x480 with 1 Axes>"
      ]
     },
     "metadata": {},
     "output_type": "display_data"
    }
   ],
   "source": [
    "dent=df.sample(5)\n",
    "#x=Entity(50)\n",
    "sns.countplot(x='Entity',data=dent)"
   ]
  },
  {
   "cell_type": "code",
   "execution_count": 293,
   "id": "378f13d3",
   "metadata": {},
   "outputs": [],
   "source": [
    "# df['Entity'].unique()"
   ]
  },
  {
   "cell_type": "code",
   "execution_count": null,
   "id": "417c4739",
   "metadata": {},
   "outputs": [],
   "source": []
  },
  {
   "cell_type": "code",
   "execution_count": null,
   "id": "2f0e2086",
   "metadata": {},
   "outputs": [],
   "source": []
  },
  {
   "cell_type": "code",
   "execution_count": 294,
   "id": "95209819",
   "metadata": {},
   "outputs": [
    {
     "data": {
      "text/plain": [
       "<AxesSubplot: xlabel='411773-annotations', ylabel='count'>"
      ]
     },
     "execution_count": 294,
     "metadata": {},
     "output_type": "execute_result"
    },
    {
     "data": {
      "image/png": "[encoded data removed]",
      "text/plain": [
       "<Figure size 640x480 with 1 Axes>"
      ]
     },
     "metadata": {},
     "output_type": "display_data"
    }
   ],
   "source": [
    "\n",
    "sns.countplot(x='411773-annotations',data=df)"
   ]
  },
  {
   "cell_type": "code",
   "execution_count": 295,
   "id": "b2452ea1",
   "metadata": {},
   "outputs": [],
   "source": [
    "##### BIVARIANT ANALYSIS \n",
    "# Involves finding relationships between two variables/attributes.\n",
    "# To achieve this, we can use bar chart,box plot and regression plots.\n"
   ]
  },
  {
   "cell_type": "code",
   "execution_count": 296,
   "id": "bdd31c71",
   "metadata": {},
   "outputs": [
    {
     "data": {
      "text/plain": [
       "<AxesSubplot: xlabel='Entity', ylabel='Global Hunger Index (2021)'>"
      ]
     },
     "execution_count": 296,
     "metadata": {},
     "output_type": "execute_result"
    },
    {
     "data": {
      "image/png": "[encoded data removed]",
      "text/plain": [
       "<Figure size 640x480 with 1 Axes>"
      ]
     },
     "metadata": {},
     "output_type": "display_data"
    }
   ],
   "source": [
    "### Bar chart is used when you have one variable as \n",
    "#categorial and another variable as numeric. \n",
    "\n",
    "dent=df.sample(6)\n",
    "sns.barplot(x='Entity',y='Global Hunger Index (2021)',data=dent)\n"
   ]
  },
  {
   "cell_type": "code",
   "execution_count": 297,
   "id": "cbbba9f6",
   "metadata": {},
   "outputs": [
    {
     "data": {
      "text/plain": [
       "<AxesSubplot: xlabel='Entity', ylabel='Global Hunger Index (2021)'>"
      ]
     },
     "execution_count": 297,
     "metadata": {},
     "output_type": "execute_result"
    },
    {
     "data": {
      "image/png": "[encoded data removed]",
      "text/plain": [
       "<Figure size 640x480 with 1 Axes>"
      ]
     },
     "metadata": {},
     "output_type": "display_data"
    }
   ],
   "source": [
    "dent=df.sample(5)\n",
    "\n",
    "sns.boxplot(x='Entity',y='Global Hunger Index (2021)',data=dent)"
   ]
  },
  {
   "cell_type": "code",
   "execution_count": 298,
   "id": "475245bb",
   "metadata": {},
   "outputs": [],
   "source": [
    "#####REGRESSION PLOT\n",
    "# This plot is best suited to visualize the relationship betweenn two\n",
    "#numeric data variables.\n"
   ]
  },
  {
   "cell_type": "code",
   "execution_count": 299,
   "id": "9a6f74e7",
   "metadata": {},
   "outputs": [],
   "source": [
    "#####MULTIVARIANT ANALYSIS\n",
    "##This gives us a statistical analysis of many different variables at once\n"
   ]
  },
  {
   "cell_type": "code",
   "execution_count": 300,
   "id": "0aa4f7ed",
   "metadata": {},
   "outputs": [
    {
     "data": {
      "text/plain": [
       "<seaborn.axisgrid.PairGrid at 0x13ce8b0a0>"
      ]
     },
     "execution_count": 300,
     "metadata": {},
     "output_type": "execute_result"
    },
    {
     "data": {
      "image/png": "[encoded data removed]",
      "text/plain": [
       "<Figure size 500x500 with 6 Axes>"
      ]
     },
     "metadata": {},
     "output_type": "display_data"
    }
   ],
   "source": [
    "\n",
    "\n",
    "sns.pairplot(df)"
   ]
  },
  {
   "cell_type": "code",
   "execution_count": 301,
   "id": "ad2a5ba0",
   "metadata": {},
   "outputs": [],
   "source": [
    "##4.Perform hypothesis testing by assuming 2 hypothesis and validate its\n",
    "#relation using various hypothesis techniques as discussed \n",
    "#from our stats lessons. \n",
    "\n",
    "## chi-square test\n",
    "\n"
   ]
  },
  {
   "cell_type": "code",
   "execution_count": 322,
   "id": "8c0a620b",
   "metadata": {},
   "outputs": [
    {
     "data": {
      "text/html": [
       "<div>\n",
       "<style scoped>\n",
       "    .dataframe tbody tr th:only-of-type {\n",
       "        vertical-align: middle;\n",
       "    }\n",
       "\n",
       "    .dataframe tbody tr th {\n",
       "        vertical-align: top;\n",
       "    }\n",
       "\n",
       "    .dataframe thead th {\n",
       "        text-align: right;\n",
       "    }\n",
       "</style>\n",
       "<table border=\"1\" class=\"dataframe\">\n",
       "  <thead>\n",
       "    <tr style=\"text-align: right;\">\n",
       "      <th></th>\n",
       "      <th>Year</th>\n",
       "      <th>Global Hunger Index (2021)</th>\n",
       "    </tr>\n",
       "  </thead>\n",
       "  <tbody>\n",
       "    <tr>\n",
       "      <th>count</th>\n",
       "      <td>471.000000</td>\n",
       "      <td>471.000000</td>\n",
       "    </tr>\n",
       "    <tr>\n",
       "      <th>mean</th>\n",
       "      <td>2010.127389</td>\n",
       "      <td>19.824628</td>\n",
       "    </tr>\n",
       "    <tr>\n",
       "      <th>std</th>\n",
       "      <td>7.852951</td>\n",
       "      <td>13.449570</td>\n",
       "    </tr>\n",
       "    <tr>\n",
       "      <th>min</th>\n",
       "      <td>2000.000000</td>\n",
       "      <td>2.500000</td>\n",
       "    </tr>\n",
       "    <tr>\n",
       "      <th>25%</th>\n",
       "      <td>2006.000000</td>\n",
       "      <td>8.800000</td>\n",
       "    </tr>\n",
       "    <tr>\n",
       "      <th>50%</th>\n",
       "      <td>2012.000000</td>\n",
       "      <td>17.000000</td>\n",
       "    </tr>\n",
       "    <tr>\n",
       "      <th>75%</th>\n",
       "      <td>2021.000000</td>\n",
       "      <td>28.550000</td>\n",
       "    </tr>\n",
       "    <tr>\n",
       "      <th>max</th>\n",
       "      <td>2021.000000</td>\n",
       "      <td>65.100000</td>\n",
       "    </tr>\n",
       "  </tbody>\n",
       "</table>\n",
       "</div>"
      ],
      "text/plain": [
       "              Year  Global Hunger Index (2021)\n",
       "count   471.000000                  471.000000\n",
       "mean   2010.127389                   19.824628\n",
       "std       7.852951                   13.449570\n",
       "min    2000.000000                    2.500000\n",
       "25%    2006.000000                    8.800000\n",
       "50%    2012.000000                   17.000000\n",
       "75%    2021.000000                   28.550000\n",
       "max    2021.000000                   65.100000"
      ]
     },
     "execution_count": 322,
     "metadata": {},
     "output_type": "execute_result"
    }
   ],
   "source": [
    "sample=df.describe()\n",
    "sample"
   ]
  },
  {
   "cell_type": "code",
   "execution_count": null,
   "id": "17d9436a",
   "metadata": {},
   "outputs": [],
   "source": []
  },
  {
   "cell_type": "code",
   "execution_count": 323,
   "id": "372c7ea6",
   "metadata": {},
   "outputs": [
    {
     "name": "stdout",
     "output_type": "stream",
     "text": [
      "stat=0.94,p=0.000\n",
      "Not a normal distribution\n"
     ]
    }
   ],
   "source": [
    "from scipy.stats import shapiro\n",
    "datatotest=df['Global Hunger Index (2021)']\n",
    "stat,p=shapiro(datatotest)\n",
    "print('stat=%.2f,p=%.3f' %(stat,p))\n",
    "if p>0.05:\n",
    "    print('Normal distribution')\n",
    "else:\n",
    "    print('Not a normal distribution')"
   ]
  },
  {
   "cell_type": "code",
   "execution_count": 334,
   "id": "647398d7",
   "metadata": {},
   "outputs": [
    {
     "name": "stdout",
     "output_type": "stream",
     "text": [
      "count    471.000000\n",
      "mean      19.824628\n",
      "std       13.449570\n",
      "min        2.500000\n",
      "25%        8.800000\n",
      "50%       17.000000\n",
      "75%       28.550000\n",
      "max       65.100000\n",
      "Name: Global Hunger Index (2021), dtype: float64\n"
     ]
    }
   ],
   "source": [
    "df_=df['Global Hunger Index (2021)'].describe()\n",
    "print(df_)"
   ]
  },
  {
   "cell_type": "code",
   "execution_count": null,
   "id": "136ed51e",
   "metadata": {},
   "outputs": [],
   "source": []
  },
  {
   "cell_type": "code",
   "execution_count": null,
   "id": "7b9b59d6",
   "metadata": {},
   "outputs": [],
   "source": []
  },
  {
   "cell_type": "code",
   "execution_count": 335,
   "id": "cc10c31d",
   "metadata": {},
   "outputs": [],
   "source": [
    "stat,p,dof,expected=chi2_contingency(df_)"
   ]
  },
  {
   "cell_type": "code",
   "execution_count": 336,
   "id": "60d2d4c5",
   "metadata": {},
   "outputs": [
    {
     "name": "stdout",
     "output_type": "stream",
     "text": [
      "0.0\n"
     ]
    }
   ],
   "source": [
    "print(stat)#this is a test statistic value "
   ]
  },
  {
   "cell_type": "code",
   "execution_count": 337,
   "id": "bef6f0dc",
   "metadata": {},
   "outputs": [
    {
     "name": "stdout",
     "output_type": "stream",
     "text": [
      "1.0\n"
     ]
    }
   ],
   "source": [
    "print(p)"
   ]
  },
  {
   "cell_type": "code",
   "execution_count": 338,
   "id": "9855b54e",
   "metadata": {},
   "outputs": [
    {
     "name": "stdout",
     "output_type": "stream",
     "text": [
      "0\n"
     ]
    }
   ],
   "source": [
    "print(dof)#degree of freedom"
   ]
  },
  {
   "cell_type": "code",
   "execution_count": 339,
   "id": "ebad87ed",
   "metadata": {},
   "outputs": [
    {
     "name": "stdout",
     "output_type": "stream",
     "text": [
      "Accept the Null hypothesis (ACCEPT H0)\n"
     ]
    }
   ],
   "source": [
    "significance_value=0.05 # standard threshold \n",
    "\n",
    "if p<=significance_value:\n",
    "    print('Reject the Null hypothesis (REJECT H0)')\n",
    "else:\n",
    "    print('Accept the Null hypothesis (ACCEPT H0)')\n",
    "   "
   ]
  },
  {
   "cell_type": "code",
   "execution_count": 341,
   "id": "438ffb54",
   "metadata": {},
   "outputs": [
    {
     "name": "stdout",
     "output_type": "stream",
     "text": [
      "count     471.000000\n",
      "mean     2010.127389\n",
      "std         7.852951\n",
      "min      2000.000000\n",
      "25%      2006.000000\n",
      "50%      2012.000000\n",
      "75%      2021.000000\n",
      "max      2021.000000\n",
      "Name: Year, dtype: float64\n"
     ]
    }
   ],
   "source": [
    "###T-test\n",
    "\n",
    "#one-sample T-test\n",
    "\n",
    "sample1=df['Year'].describe()\n",
    "print(sample1)"
   ]
  },
  {
   "cell_type": "code",
   "execution_count": 343,
   "id": "8816399e",
   "metadata": {},
   "outputs": [
    {
     "name": "stdout",
     "output_type": "stream",
     "text": [
      "Ttest_1sampResult(statistic=-1.5046218035365377, pvalue=0.17613485467386886)\n"
     ]
    }
   ],
   "source": [
    "print(stats.ttest_1samp(a=sample1, popmean=2010))\n",
    "#This is a test for the null hypothesis that the expected value (mean) of a sample of \n",
    "# independent observations a is equal to the given population mean, popmean."
   ]
  },
  {
   "cell_type": "code",
   "execution_count": null,
   "id": "b8b0ea11",
   "metadata": {},
   "outputs": [],
   "source": [
    "### H0: The mean of year is 2010.127\n",
    "# H1: The mean of year is not 2010.127\n",
    "\n",
    "# Here, we have selected the year as \n",
    "#the population sample to perform the test on. \n",
    "\n",
    "# Since, the p value is close to 1 which is greater than 0.05 ( threshold ) \n",
    "#which means that the mean of the year is most likely to be 2010.127\n",
    "# The evidence is too strong to be rejected, it is almost accurate. So, we accept the H0. "
   ]
  },
  {
   "cell_type": "code",
   "execution_count": 344,
   "id": "cef3c025",
   "metadata": {},
   "outputs": [
    {
     "name": "stdout",
     "output_type": "stream",
     "text": [
      "602370.4176009452 22352.639503721846\n"
     ]
    }
   ],
   "source": [
    "# #Lets perform two sample T test\n",
    "\n",
    "sample1=df['Year'].describe()\n",
    "sample2=df['Global Hunger Index (2021)'].describe()\n",
    "print(np.var(sample1),np.var(sample2))"
   ]
  },
  {
   "cell_type": "code",
   "execution_count": 345,
   "id": "033a306a",
   "metadata": {},
   "outputs": [
    {
     "name": "stdout",
     "output_type": "stream",
     "text": [
      "0.03710779754547955\n"
     ]
    }
   ],
   "source": [
    "ratio=np.var(sample2)/np.var(sample1)\n",
    "print(ratio)\n"
   ]
  },
  {
   "cell_type": "code",
   "execution_count": 346,
   "id": "186a5811",
   "metadata": {},
   "outputs": [],
   "source": [
    "# To perform two sample t test, the samples of the populations needs to be symmetrically distrbuted i.e normalized. \n",
    "# In this case it is as the ratio value is close to 1 which indicates normal/symmetric distributions.\n",
    "# If the value was negative, it indicates negative distribution\n",
    "# If the value was greater than 1.5 closer to 2 or greater than 2 then it indicates positive distribution. \n",
    "\n",
    "# Ensure always the data is normalized. \n"
   ]
  },
  {
   "cell_type": "code",
   "execution_count": 347,
   "id": "ca002769",
   "metadata": {},
   "outputs": [
    {
     "name": "stdout",
     "output_type": "stream",
     "text": [
      "Ttest_indResult(statistic=4.988752136979904, pvalue=0.0001986168142308783)\n"
     ]
    }
   ],
   "source": [
    "print(ttest_ind(a=sample1,b=sample2,equal_var=True))"
   ]
  },
  {
   "cell_type": "code",
   "execution_count": 348,
   "id": "1ddc0a4e",
   "metadata": {},
   "outputs": [],
   "source": [
    "# H0 - The mean of both samples(year and Global Hunger Index (2021) are equal\n",
    "# H1 - The mean of both samples are not equal \n",
    "\n",
    "# Conclusion- We will dismiss the null hypothesis and accept the alternate hypothesis. \n",
    "# There is no evidene sustainable enough to prove the two populations have the same mean. So, H1 is true. "
   ]
  },
  {
   "cell_type": "code",
   "execution_count": 349,
   "id": "01124023",
   "metadata": {},
   "outputs": [],
   "source": [
    "####5.Perform data cleaning if any and feature engineering, make observations for the same. \n",
    "\n",
    "\n",
    "#### Feature engineering - On the existing features, you try to find if new features can \n",
    "#be created or exsisting features can be dropped.\n",
    "\n",
    "\n",
    "\n"
   ]
  },
  {
   "cell_type": "code",
   "execution_count": 350,
   "id": "c77abe8e",
   "metadata": {},
   "outputs": [],
   "source": [
    "## Convert 411773-annotations into float \n",
    "dict_={'NAN':0,'Value represents the mid-point of its group in the GHI severity scale':1}\n",
    "df['411773-annotations']=df['411773-annotations'].map(dict_)"
   ]
  },
  {
   "cell_type": "code",
   "execution_count": 351,
   "id": "e1d577ee",
   "metadata": {},
   "outputs": [
    {
     "name": "stdout",
     "output_type": "stream",
     "text": [
      "<class 'pandas.core.frame.DataFrame'>\n",
      "RangeIndex: 471 entries, 0 to 470\n",
      "Data columns (total 5 columns):\n",
      " #   Column                      Non-Null Count  Dtype  \n",
      "---  ------                      --------------  -----  \n",
      " 0   Entity                      471 non-null    object \n",
      " 1   Code                        471 non-null    object \n",
      " 2   Year                        471 non-null    int64  \n",
      " 3   Global Hunger Index (2021)  471 non-null    float64\n",
      " 4   411773-annotations          12 non-null     float64\n",
      "dtypes: float64(2), int64(1), object(2)\n",
      "memory usage: 18.5+ KB\n"
     ]
    }
   ],
   "source": [
    "df.info()"
   ]
  },
  {
   "cell_type": "code",
   "execution_count": 353,
   "id": "7a0644f9",
   "metadata": {},
   "outputs": [],
   "source": [
    "##drop Code column"
   ]
  },
  {
   "cell_type": "code",
   "execution_count": 354,
   "id": "10be2193",
   "metadata": {},
   "outputs": [
    {
     "data": {
      "text/plain": [
       "Index(['Entity', 'Year', 'Global Hunger Index (2021)', '411773-annotations'], dtype='object')"
      ]
     },
     "execution_count": 354,
     "metadata": {},
     "output_type": "execute_result"
    }
   ],
   "source": [
    "df.drop('Code',axis=1,inplace=True)\n",
    "df.columns"
   ]
  },
  {
   "cell_type": "code",
   "execution_count": null,
   "id": "3191af7c",
   "metadata": {},
   "outputs": [],
   "source": []
  },
  {
   "cell_type": "code",
   "execution_count": null,
   "id": "4a128c97",
   "metadata": {},
   "outputs": [],
   "source": []
  }
 ],
 "metadata": {
  "kernelspec": {
   "display_name": "Python 3 (ipykernel)",
   "language": "python",
   "name": "python3"
  },
  "language_info": {
   "codemirror_mode": {
    "name": "ipython",
    "version": 3
   },
   "file_extension": ".py",
   "mimetype": "text/x-python",
   "name": "python",
   "nbconvert_exporter": "python",
   "pygments_lexer": "ipython3",
   "version": "3.9.6"
  }
 },
 "nbformat": 4,
 "nbformat_minor": 5
}
