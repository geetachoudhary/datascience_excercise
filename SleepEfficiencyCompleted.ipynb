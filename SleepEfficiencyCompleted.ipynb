{
 "cells": [
  {
   "cell_type": "markdown",
   "metadata": {},
   "source": [
    "# 01. Problem Statement:  \n",
    "\n",
    "### ***IDENTIFY THE FEATURES THAT AFFACT THE SLEEP EFFICIENCY OF HUMANS***\n",
    "\n",
    "### ***UNDESTAND HOW SLEEP EFFICIENCY VARIES BETWEEN AGES***\n",
    "\n"
   ]
  },
  {
   "cell_type": "code",
   "execution_count": 1,
   "metadata": {},
   "outputs": [],
   "source": [
    "#### Importing necessary libraries\n",
    "\n",
    "import pandas as pd\n",
    "import numpy as np\n",
    "import matplotlib.pyplot as plt\n",
    "import seaborn as sns\n",
    "\n",
    "import warnings\n",
    "warnings.filterwarnings('ignore')"
   ]
  },
  {
   "cell_type": "markdown",
   "metadata": {},
   "source": [
    "## 2.***GET THE DATA(KAGGLE)***\n"
   ]
  },
  {
   "cell_type": "code",
   "execution_count": 2,
   "metadata": {},
   "outputs": [],
   "source": [
    "\n",
    "sleep = pd.read_csv('Sleep_Efficiency.csv')"
   ]
  },
  {
   "cell_type": "code",
   "execution_count": 3,
   "metadata": {},
   "outputs": [
    {
     "data": {
      "text/html": [
       "<div>\n",
       "<style scoped>\n",
       "    .dataframe tbody tr th:only-of-type {\n",
       "        vertical-align: middle;\n",
       "    }\n",
       "\n",
       "    .dataframe tbody tr th {\n",
       "        vertical-align: top;\n",
       "    }\n",
       "\n",
       "    .dataframe thead th {\n",
       "        text-align: right;\n",
       "    }\n",
       "</style>\n",
       "<table border=\"1\" class=\"dataframe\">\n",
       "  <thead>\n",
       "    <tr style=\"text-align: right;\">\n",
       "      <th></th>\n",
       "      <th>ID</th>\n",
       "      <th>Age</th>\n",
       "      <th>Gender</th>\n",
       "      <th>Bedtime</th>\n",
       "      <th>Wakeup time</th>\n",
       "      <th>Sleep duration</th>\n",
       "      <th>Sleep efficiency</th>\n",
       "      <th>REM sleep percentage</th>\n",
       "      <th>Deep sleep percentage</th>\n",
       "      <th>Light sleep percentage</th>\n",
       "      <th>Awakenings</th>\n",
       "      <th>Caffeine consumption</th>\n",
       "      <th>Alcohol consumption</th>\n",
       "      <th>Smoking status</th>\n",
       "      <th>Exercise frequency</th>\n",
       "    </tr>\n",
       "  </thead>\n",
       "  <tbody>\n",
       "    <tr>\n",
       "      <th>0</th>\n",
       "      <td>1</td>\n",
       "      <td>65</td>\n",
       "      <td>Female</td>\n",
       "      <td>2021-03-06 01:00:00</td>\n",
       "      <td>2021-03-06 07:00:00</td>\n",
       "      <td>6.0</td>\n",
       "      <td>0.88</td>\n",
       "      <td>18</td>\n",
       "      <td>70</td>\n",
       "      <td>12</td>\n",
       "      <td>0.0</td>\n",
       "      <td>0.0</td>\n",
       "      <td>0.0</td>\n",
       "      <td>Yes</td>\n",
       "      <td>3.0</td>\n",
       "    </tr>\n",
       "    <tr>\n",
       "      <th>1</th>\n",
       "      <td>2</td>\n",
       "      <td>69</td>\n",
       "      <td>Male</td>\n",
       "      <td>2021-12-05 02:00:00</td>\n",
       "      <td>2021-12-05 09:00:00</td>\n",
       "      <td>7.0</td>\n",
       "      <td>0.66</td>\n",
       "      <td>19</td>\n",
       "      <td>28</td>\n",
       "      <td>53</td>\n",
       "      <td>3.0</td>\n",
       "      <td>0.0</td>\n",
       "      <td>3.0</td>\n",
       "      <td>Yes</td>\n",
       "      <td>3.0</td>\n",
       "    </tr>\n",
       "    <tr>\n",
       "      <th>2</th>\n",
       "      <td>3</td>\n",
       "      <td>40</td>\n",
       "      <td>Female</td>\n",
       "      <td>2021-05-25 21:30:00</td>\n",
       "      <td>2021-05-25 05:30:00</td>\n",
       "      <td>8.0</td>\n",
       "      <td>0.89</td>\n",
       "      <td>20</td>\n",
       "      <td>70</td>\n",
       "      <td>10</td>\n",
       "      <td>1.0</td>\n",
       "      <td>0.0</td>\n",
       "      <td>0.0</td>\n",
       "      <td>No</td>\n",
       "      <td>3.0</td>\n",
       "    </tr>\n",
       "    <tr>\n",
       "      <th>3</th>\n",
       "      <td>4</td>\n",
       "      <td>40</td>\n",
       "      <td>Female</td>\n",
       "      <td>2021-11-03 02:30:00</td>\n",
       "      <td>2021-11-03 08:30:00</td>\n",
       "      <td>6.0</td>\n",
       "      <td>0.51</td>\n",
       "      <td>23</td>\n",
       "      <td>25</td>\n",
       "      <td>52</td>\n",
       "      <td>3.0</td>\n",
       "      <td>50.0</td>\n",
       "      <td>5.0</td>\n",
       "      <td>Yes</td>\n",
       "      <td>1.0</td>\n",
       "    </tr>\n",
       "    <tr>\n",
       "      <th>4</th>\n",
       "      <td>5</td>\n",
       "      <td>57</td>\n",
       "      <td>Male</td>\n",
       "      <td>2021-03-13 01:00:00</td>\n",
       "      <td>2021-03-13 09:00:00</td>\n",
       "      <td>8.0</td>\n",
       "      <td>0.76</td>\n",
       "      <td>27</td>\n",
       "      <td>55</td>\n",
       "      <td>18</td>\n",
       "      <td>3.0</td>\n",
       "      <td>0.0</td>\n",
       "      <td>3.0</td>\n",
       "      <td>No</td>\n",
       "      <td>3.0</td>\n",
       "    </tr>\n",
       "  </tbody>\n",
       "</table>\n",
       "</div>"
      ],
      "text/plain": [
       "   ID  Age  Gender              Bedtime          Wakeup time  Sleep duration   \n",
       "0   1   65  Female  2021-03-06 01:00:00  2021-03-06 07:00:00             6.0  \\\n",
       "1   2   69    Male  2021-12-05 02:00:00  2021-12-05 09:00:00             7.0   \n",
       "2   3   40  Female  2021-05-25 21:30:00  2021-05-25 05:30:00             8.0   \n",
       "3   4   40  Female  2021-11-03 02:30:00  2021-11-03 08:30:00             6.0   \n",
       "4   5   57    Male  2021-03-13 01:00:00  2021-03-13 09:00:00             8.0   \n",
       "\n",
       "   Sleep efficiency  REM sleep percentage  Deep sleep percentage   \n",
       "0              0.88                    18                     70  \\\n",
       "1              0.66                    19                     28   \n",
       "2              0.89                    20                     70   \n",
       "3              0.51                    23                     25   \n",
       "4              0.76                    27                     55   \n",
       "\n",
       "   Light sleep percentage  Awakenings  Caffeine consumption   \n",
       "0                      12         0.0                   0.0  \\\n",
       "1                      53         3.0                   0.0   \n",
       "2                      10         1.0                   0.0   \n",
       "3                      52         3.0                  50.0   \n",
       "4                      18         3.0                   0.0   \n",
       "\n",
       "   Alcohol consumption Smoking status  Exercise frequency  \n",
       "0                  0.0            Yes                 3.0  \n",
       "1                  3.0            Yes                 3.0  \n",
       "2                  0.0             No                 3.0  \n",
       "3                  5.0            Yes                 1.0  \n",
       "4                  3.0             No                 3.0  "
      ]
     },
     "execution_count": 3,
     "metadata": {},
     "output_type": "execute_result"
    }
   ],
   "source": [
    "sleep.head()"
   ]
  },
  {
   "cell_type": "code",
   "execution_count": 4,
   "metadata": {},
   "outputs": [
    {
     "data": {
      "text/plain": [
       "(452, 15)"
      ]
     },
     "execution_count": 4,
     "metadata": {},
     "output_type": "execute_result"
    }
   ],
   "source": [
    "sleep.shape"
   ]
  },
  {
   "cell_type": "code",
   "execution_count": 5,
   "metadata": {},
   "outputs": [
    {
     "name": "stdout",
     "output_type": "stream",
     "text": [
      "<class 'pandas.core.frame.DataFrame'>\n",
      "RangeIndex: 452 entries, 0 to 451\n",
      "Data columns (total 15 columns):\n",
      " #   Column                  Non-Null Count  Dtype  \n",
      "---  ------                  --------------  -----  \n",
      " 0   ID                      452 non-null    int64  \n",
      " 1   Age                     452 non-null    int64  \n",
      " 2   Gender                  452 non-null    object \n",
      " 3   Bedtime                 452 non-null    object \n",
      " 4   Wakeup time             452 non-null    object \n",
      " 5   Sleep duration          452 non-null    float64\n",
      " 6   Sleep efficiency        452 non-null    float64\n",
      " 7   REM sleep percentage    452 non-null    int64  \n",
      " 8   Deep sleep percentage   452 non-null    int64  \n",
      " 9   Light sleep percentage  452 non-null    int64  \n",
      " 10  Awakenings              432 non-null    float64\n",
      " 11  Caffeine consumption    427 non-null    float64\n",
      " 12  Alcohol consumption     438 non-null    float64\n",
      " 13  Smoking status          452 non-null    object \n",
      " 14  Exercise frequency      446 non-null    float64\n",
      "dtypes: float64(6), int64(5), object(4)\n",
      "memory usage: 53.1+ KB\n"
     ]
    }
   ],
   "source": [
    "# Information on dataframe\n",
    "sleep.info()"
   ]
  },
  {
   "cell_type": "code",
   "execution_count": 6,
   "metadata": {
    "scrolled": false
   },
   "outputs": [
    {
     "data": {
      "text/html": [
       "<div>\n",
       "<style scoped>\n",
       "    .dataframe tbody tr th:only-of-type {\n",
       "        vertical-align: middle;\n",
       "    }\n",
       "\n",
       "    .dataframe tbody tr th {\n",
       "        vertical-align: top;\n",
       "    }\n",
       "\n",
       "    .dataframe thead th {\n",
       "        text-align: right;\n",
       "    }\n",
       "</style>\n",
       "<table border=\"1\" class=\"dataframe\">\n",
       "  <thead>\n",
       "    <tr style=\"text-align: right;\">\n",
       "      <th></th>\n",
       "      <th>ID</th>\n",
       "      <th>Age</th>\n",
       "      <th>Sleep duration</th>\n",
       "      <th>Sleep efficiency</th>\n",
       "      <th>REM sleep percentage</th>\n",
       "      <th>Deep sleep percentage</th>\n",
       "      <th>Light sleep percentage</th>\n",
       "      <th>Awakenings</th>\n",
       "      <th>Caffeine consumption</th>\n",
       "      <th>Alcohol consumption</th>\n",
       "      <th>Exercise frequency</th>\n",
       "    </tr>\n",
       "  </thead>\n",
       "  <tbody>\n",
       "    <tr>\n",
       "      <th>count</th>\n",
       "      <td>452.000000</td>\n",
       "      <td>452.000000</td>\n",
       "      <td>452.000000</td>\n",
       "      <td>452.000000</td>\n",
       "      <td>452.000000</td>\n",
       "      <td>452.000000</td>\n",
       "      <td>452.000000</td>\n",
       "      <td>432.000000</td>\n",
       "      <td>427.000000</td>\n",
       "      <td>438.000000</td>\n",
       "      <td>446.000000</td>\n",
       "    </tr>\n",
       "    <tr>\n",
       "      <th>mean</th>\n",
       "      <td>226.500000</td>\n",
       "      <td>40.285398</td>\n",
       "      <td>7.465708</td>\n",
       "      <td>0.788916</td>\n",
       "      <td>22.615044</td>\n",
       "      <td>52.823009</td>\n",
       "      <td>24.561947</td>\n",
       "      <td>1.641204</td>\n",
       "      <td>23.653396</td>\n",
       "      <td>1.173516</td>\n",
       "      <td>1.791480</td>\n",
       "    </tr>\n",
       "    <tr>\n",
       "      <th>std</th>\n",
       "      <td>130.625419</td>\n",
       "      <td>13.172250</td>\n",
       "      <td>0.866625</td>\n",
       "      <td>0.135237</td>\n",
       "      <td>3.525963</td>\n",
       "      <td>15.654235</td>\n",
       "      <td>15.313665</td>\n",
       "      <td>1.356762</td>\n",
       "      <td>30.202785</td>\n",
       "      <td>1.621377</td>\n",
       "      <td>1.428134</td>\n",
       "    </tr>\n",
       "    <tr>\n",
       "      <th>min</th>\n",
       "      <td>1.000000</td>\n",
       "      <td>9.000000</td>\n",
       "      <td>5.000000</td>\n",
       "      <td>0.500000</td>\n",
       "      <td>15.000000</td>\n",
       "      <td>18.000000</td>\n",
       "      <td>7.000000</td>\n",
       "      <td>0.000000</td>\n",
       "      <td>0.000000</td>\n",
       "      <td>0.000000</td>\n",
       "      <td>0.000000</td>\n",
       "    </tr>\n",
       "    <tr>\n",
       "      <th>25%</th>\n",
       "      <td>113.750000</td>\n",
       "      <td>29.000000</td>\n",
       "      <td>7.000000</td>\n",
       "      <td>0.697500</td>\n",
       "      <td>20.000000</td>\n",
       "      <td>48.250000</td>\n",
       "      <td>15.000000</td>\n",
       "      <td>1.000000</td>\n",
       "      <td>0.000000</td>\n",
       "      <td>0.000000</td>\n",
       "      <td>0.000000</td>\n",
       "    </tr>\n",
       "    <tr>\n",
       "      <th>50%</th>\n",
       "      <td>226.500000</td>\n",
       "      <td>40.000000</td>\n",
       "      <td>7.500000</td>\n",
       "      <td>0.820000</td>\n",
       "      <td>22.000000</td>\n",
       "      <td>58.000000</td>\n",
       "      <td>18.000000</td>\n",
       "      <td>1.000000</td>\n",
       "      <td>25.000000</td>\n",
       "      <td>0.000000</td>\n",
       "      <td>2.000000</td>\n",
       "    </tr>\n",
       "    <tr>\n",
       "      <th>75%</th>\n",
       "      <td>339.250000</td>\n",
       "      <td>52.000000</td>\n",
       "      <td>8.000000</td>\n",
       "      <td>0.900000</td>\n",
       "      <td>25.000000</td>\n",
       "      <td>63.000000</td>\n",
       "      <td>32.500000</td>\n",
       "      <td>3.000000</td>\n",
       "      <td>50.000000</td>\n",
       "      <td>2.000000</td>\n",
       "      <td>3.000000</td>\n",
       "    </tr>\n",
       "    <tr>\n",
       "      <th>max</th>\n",
       "      <td>452.000000</td>\n",
       "      <td>69.000000</td>\n",
       "      <td>10.000000</td>\n",
       "      <td>0.990000</td>\n",
       "      <td>30.000000</td>\n",
       "      <td>75.000000</td>\n",
       "      <td>63.000000</td>\n",
       "      <td>4.000000</td>\n",
       "      <td>200.000000</td>\n",
       "      <td>5.000000</td>\n",
       "      <td>5.000000</td>\n",
       "    </tr>\n",
       "  </tbody>\n",
       "</table>\n",
       "</div>"
      ],
      "text/plain": [
       "               ID         Age  Sleep duration  Sleep efficiency   \n",
       "count  452.000000  452.000000      452.000000        452.000000  \\\n",
       "mean   226.500000   40.285398        7.465708          0.788916   \n",
       "std    130.625419   13.172250        0.866625          0.135237   \n",
       "min      1.000000    9.000000        5.000000          0.500000   \n",
       "25%    113.750000   29.000000        7.000000          0.697500   \n",
       "50%    226.500000   40.000000        7.500000          0.820000   \n",
       "75%    339.250000   52.000000        8.000000          0.900000   \n",
       "max    452.000000   69.000000       10.000000          0.990000   \n",
       "\n",
       "       REM sleep percentage  Deep sleep percentage  Light sleep percentage   \n",
       "count            452.000000             452.000000              452.000000  \\\n",
       "mean              22.615044              52.823009               24.561947   \n",
       "std                3.525963              15.654235               15.313665   \n",
       "min               15.000000              18.000000                7.000000   \n",
       "25%               20.000000              48.250000               15.000000   \n",
       "50%               22.000000              58.000000               18.000000   \n",
       "75%               25.000000              63.000000               32.500000   \n",
       "max               30.000000              75.000000               63.000000   \n",
       "\n",
       "       Awakenings  Caffeine consumption  Alcohol consumption   \n",
       "count  432.000000            427.000000           438.000000  \\\n",
       "mean     1.641204             23.653396             1.173516   \n",
       "std      1.356762             30.202785             1.621377   \n",
       "min      0.000000              0.000000             0.000000   \n",
       "25%      1.000000              0.000000             0.000000   \n",
       "50%      1.000000             25.000000             0.000000   \n",
       "75%      3.000000             50.000000             2.000000   \n",
       "max      4.000000            200.000000             5.000000   \n",
       "\n",
       "       Exercise frequency  \n",
       "count          446.000000  \n",
       "mean             1.791480  \n",
       "std              1.428134  \n",
       "min              0.000000  \n",
       "25%              0.000000  \n",
       "50%              2.000000  \n",
       "75%              3.000000  \n",
       "max              5.000000  "
      ]
     },
     "execution_count": 6,
     "metadata": {},
     "output_type": "execute_result"
    }
   ],
   "source": [
    "sleep.describe()"
   ]
  },
  {
   "cell_type": "markdown",
   "metadata": {},
   "source": [
    "## 3. ***Exploratory Data Analysis***"
   ]
  },
  {
   "cell_type": "code",
   "execution_count": 7,
   "metadata": {},
   "outputs": [
    {
     "data": {
      "image/png": "[encoded data removed]",
      "text/plain": [
       "<Figure size 800x600 with 1 Axes>"
      ]
     },
     "metadata": {},
     "output_type": "display_data"
    }
   ],
   "source": [
    "# Creating a histogram of Distribution of Sleep Duration\n",
    "plt.figure(figsize=(8,6))\n",
    "plt.hist(sleep[\"Sleep duration\"])\n",
    "plt.xlabel(\"Sleep duration\")\n",
    "plt.ylabel(\"Frequency\")\n",
    "plt.title(\"Distribution of Sleep Duration\");"
   ]
  },
  {
   "cell_type": "code",
   "execution_count": 8,
   "metadata": {},
   "outputs": [
    {
     "data": {
      "image/png": "[encoded data removed]",
      "text/plain": [
       "<Figure size 800x600 with 1 Axes>"
      ]
     },
     "metadata": {},
     "output_type": "display_data"
    }
   ],
   "source": [
    "# Creating a histogram of Distribution of Sleep efficiency\n",
    "plt.figure(figsize=(8,6))\n",
    "plt.hist(sleep[\"Sleep efficiency\"])\n",
    "plt.xlabel(\"Sleep efficiency\")\n",
    "plt.ylabel(\"Frequency\")\n",
    "plt.title(\"Distribution of Sleep efficiency\");"
   ]
  },
  {
   "cell_type": "code",
   "execution_count": 9,
   "metadata": {},
   "outputs": [],
   "source": [
    "sleep['REM sleep percentage'] = sleep['REM sleep percentage']/100\n",
    "sleep['Deep sleep percentage'] = sleep['Deep sleep percentage']/100\n",
    "sleep['Light sleep percentage'] = sleep['Light sleep percentage']/100"
   ]
  },
  {
   "cell_type": "code",
   "execution_count": 10,
   "metadata": {},
   "outputs": [
    {
     "data": {
      "text/html": [
       "<div>\n",
       "<style scoped>\n",
       "    .dataframe tbody tr th:only-of-type {\n",
       "        vertical-align: middle;\n",
       "    }\n",
       "\n",
       "    .dataframe tbody tr th {\n",
       "        vertical-align: top;\n",
       "    }\n",
       "\n",
       "    .dataframe thead th {\n",
       "        text-align: right;\n",
       "    }\n",
       "</style>\n",
       "<table border=\"1\" class=\"dataframe\">\n",
       "  <thead>\n",
       "    <tr style=\"text-align: right;\">\n",
       "      <th></th>\n",
       "      <th>Sleep efficiency</th>\n",
       "      <th>REM sleep percentage</th>\n",
       "      <th>Deep sleep percentage</th>\n",
       "      <th>Light sleep percentage</th>\n",
       "      <th>Sleep duration</th>\n",
       "    </tr>\n",
       "    <tr>\n",
       "      <th>Gender</th>\n",
       "      <th></th>\n",
       "      <th></th>\n",
       "      <th></th>\n",
       "      <th></th>\n",
       "      <th></th>\n",
       "    </tr>\n",
       "  </thead>\n",
       "  <tbody>\n",
       "    <tr>\n",
       "      <th>Female</th>\n",
       "      <td>0.787545</td>\n",
       "      <td>0.231875</td>\n",
       "      <td>0.51625</td>\n",
       "      <td>0.251875</td>\n",
       "      <td>7.504464</td>\n",
       "    </tr>\n",
       "    <tr>\n",
       "      <th>Male</th>\n",
       "      <td>0.790263</td>\n",
       "      <td>0.220526</td>\n",
       "      <td>0.54000</td>\n",
       "      <td>0.239474</td>\n",
       "      <td>7.427632</td>\n",
       "    </tr>\n",
       "  </tbody>\n",
       "</table>\n",
       "</div>"
      ],
      "text/plain": [
       "        Sleep efficiency  REM sleep percentage  Deep sleep percentage   \n",
       "Gender                                                                  \n",
       "Female          0.787545              0.231875                0.51625  \\\n",
       "Male            0.790263              0.220526                0.54000   \n",
       "\n",
       "        Light sleep percentage  Sleep duration  \n",
       "Gender                                          \n",
       "Female                0.251875        7.504464  \n",
       "Male                  0.239474        7.427632  "
      ]
     },
     "execution_count": 10,
     "metadata": {},
     "output_type": "execute_result"
    }
   ],
   "source": [
    "gender_group = sleep.groupby(['Gender'])[['Sleep efficiency', 'REM sleep percentage',\n",
    "                                       'Deep sleep percentage', 'Light sleep percentage', 'Sleep duration']].mean() \n",
    "gender_group"
   ]
  },
  {
   "cell_type": "code",
   "execution_count": 11,
   "metadata": {},
   "outputs": [
    {
     "data": {
      "image/png": "[encoded data removed]",
      "text/plain": [
       "<Figure size 640x480 with 1 Axes>"
      ]
     },
     "metadata": {},
     "output_type": "display_data"
    }
   ],
   "source": [
    "gender_group.drop(columns=['Sleep duration']).plot(kind=\"bar\");"
   ]
  },
  {
   "cell_type": "markdown",
   "metadata": {},
   "source": [
    "### From the plot above plot, it is clear that the gender of a person has very little impact on the Sleep efficiency and general sleep percentage"
   ]
  },
  {
   "cell_type": "code",
   "execution_count": 12,
   "metadata": {},
   "outputs": [
    {
     "data": {
      "image/png": "[encoded data removed]",
      "text/plain": [
       "<Figure size 600x300 with 1 Axes>"
      ]
     },
     "metadata": {},
     "output_type": "display_data"
    }
   ],
   "source": [
    "gender_group[['Sleep duration']].plot(kind='barh', figsize=(6,3));"
   ]
  },
  {
   "cell_type": "code",
   "execution_count": 13,
   "metadata": {},
   "outputs": [],
   "source": [
    "# Sleep duration is also about the same in both males and females."
   ]
  },
  {
   "cell_type": "markdown",
   "metadata": {},
   "source": [
    "### Performing Age binning to check distribution of Sleep efficiency among different age groups."
   ]
  },
  {
   "cell_type": "code",
   "execution_count": 14,
   "metadata": {},
   "outputs": [
    {
     "data": {
      "text/plain": [
       "(9, 69)"
      ]
     },
     "execution_count": 14,
     "metadata": {},
     "output_type": "execute_result"
    }
   ],
   "source": [
    "min(sleep['Age']), max(sleep['Age'])"
   ]
  },
  {
   "cell_type": "code",
   "execution_count": 15,
   "metadata": {},
   "outputs": [],
   "source": [
    "age_bins = [9, 12, 19, 29, 39, 49, 59, 70]\n",
    "group_names = [\"Child\", \"Teen\", \"20+\", \"30+\", \"40+\", \"50+\", \"60+\"]"
   ]
  },
  {
   "cell_type": "code",
   "execution_count": 16,
   "metadata": {},
   "outputs": [
    {
     "data": {
      "text/html": [
       "<div>\n",
       "<style scoped>\n",
       "    .dataframe tbody tr th:only-of-type {\n",
       "        vertical-align: middle;\n",
       "    }\n",
       "\n",
       "    .dataframe tbody tr th {\n",
       "        vertical-align: top;\n",
       "    }\n",
       "\n",
       "    .dataframe thead th {\n",
       "        text-align: right;\n",
       "    }\n",
       "</style>\n",
       "<table border=\"1\" class=\"dataframe\">\n",
       "  <thead>\n",
       "    <tr style=\"text-align: right;\">\n",
       "      <th></th>\n",
       "      <th>Age</th>\n",
       "      <th>age-binned</th>\n",
       "    </tr>\n",
       "  </thead>\n",
       "  <tbody>\n",
       "    <tr>\n",
       "      <th>0</th>\n",
       "      <td>65</td>\n",
       "      <td>60+</td>\n",
       "    </tr>\n",
       "    <tr>\n",
       "      <th>1</th>\n",
       "      <td>69</td>\n",
       "      <td>60+</td>\n",
       "    </tr>\n",
       "    <tr>\n",
       "      <th>2</th>\n",
       "      <td>40</td>\n",
       "      <td>40+</td>\n",
       "    </tr>\n",
       "    <tr>\n",
       "      <th>3</th>\n",
       "      <td>40</td>\n",
       "      <td>40+</td>\n",
       "    </tr>\n",
       "    <tr>\n",
       "      <th>4</th>\n",
       "      <td>57</td>\n",
       "      <td>50+</td>\n",
       "    </tr>\n",
       "  </tbody>\n",
       "</table>\n",
       "</div>"
      ],
      "text/plain": [
       "   Age age-binned\n",
       "0   65        60+\n",
       "1   69        60+\n",
       "2   40        40+\n",
       "3   40        40+\n",
       "4   57        50+"
      ]
     },
     "execution_count": 16,
     "metadata": {},
     "output_type": "execute_result"
    }
   ],
   "source": [
    "sleep[\"age-binned\"] = pd.cut(sleep[\"Age\"], age_bins, labels=group_names, include_lowest = True)\n",
    "sleep[['Age', 'age-binned']].head()"
   ]
  },
  {
   "cell_type": "code",
   "execution_count": 17,
   "metadata": {},
   "outputs": [
    {
     "data": {
      "text/html": [
       "<div>\n",
       "<style scoped>\n",
       "    .dataframe tbody tr th:only-of-type {\n",
       "        vertical-align: middle;\n",
       "    }\n",
       "\n",
       "    .dataframe tbody tr th {\n",
       "        vertical-align: top;\n",
       "    }\n",
       "\n",
       "    .dataframe thead th {\n",
       "        text-align: right;\n",
       "    }\n",
       "</style>\n",
       "<table border=\"1\" class=\"dataframe\">\n",
       "  <thead>\n",
       "    <tr style=\"text-align: right;\">\n",
       "      <th></th>\n",
       "      <th>Sleep efficiency</th>\n",
       "      <th>Sleep duration</th>\n",
       "    </tr>\n",
       "    <tr>\n",
       "      <th>age-binned</th>\n",
       "      <th></th>\n",
       "      <th></th>\n",
       "    </tr>\n",
       "  </thead>\n",
       "  <tbody>\n",
       "    <tr>\n",
       "      <th>Child</th>\n",
       "      <td>0.542500</td>\n",
       "      <td>8.375000</td>\n",
       "    </tr>\n",
       "    <tr>\n",
       "      <th>Teen</th>\n",
       "      <td>0.719231</td>\n",
       "      <td>7.807692</td>\n",
       "    </tr>\n",
       "    <tr>\n",
       "      <th>20+</th>\n",
       "      <td>0.766509</td>\n",
       "      <td>7.415094</td>\n",
       "    </tr>\n",
       "    <tr>\n",
       "      <th>30+</th>\n",
       "      <td>0.813474</td>\n",
       "      <td>7.568421</td>\n",
       "    </tr>\n",
       "    <tr>\n",
       "      <th>40+</th>\n",
       "      <td>0.807347</td>\n",
       "      <td>7.367347</td>\n",
       "    </tr>\n",
       "    <tr>\n",
       "      <th>50+</th>\n",
       "      <td>0.801569</td>\n",
       "      <td>7.392157</td>\n",
       "    </tr>\n",
       "    <tr>\n",
       "      <th>60+</th>\n",
       "      <td>0.754706</td>\n",
       "      <td>7.602941</td>\n",
       "    </tr>\n",
       "  </tbody>\n",
       "</table>\n",
       "</div>"
      ],
      "text/plain": [
       "            Sleep efficiency  Sleep duration\n",
       "age-binned                                  \n",
       "Child               0.542500        8.375000\n",
       "Teen                0.719231        7.807692\n",
       "20+                 0.766509        7.415094\n",
       "30+                 0.813474        7.568421\n",
       "40+                 0.807347        7.367347\n",
       "50+                 0.801569        7.392157\n",
       "60+                 0.754706        7.602941"
      ]
     },
     "execution_count": 17,
     "metadata": {},
     "output_type": "execute_result"
    }
   ],
   "source": [
    "age_groups = sleep.groupby(['age-binned'])[['Sleep efficiency', 'Sleep duration']].mean()\n",
    "age_groups"
   ]
  },
  {
   "cell_type": "code",
   "execution_count": 18,
   "metadata": {},
   "outputs": [
    {
     "data": {
      "image/png": "[encoded data removed]",
      "text/plain": [
       "<Figure size 640x480 with 1 Axes>"
      ]
     },
     "metadata": {},
     "output_type": "display_data"
    }
   ],
   "source": [
    "age_groups.plot(kind='bar', y='Sleep efficiency');"
   ]
  },
  {
   "cell_type": "markdown",
   "metadata": {},
   "source": [
    "### While Sleep efficiency describes the percentage of sleep time actually spent sleeping, the dataset shows that Sleep efficiency increases to over 80% in age bracket of 40+ from around 50% in children before gradually decreasing as age increases further."
   ]
  },
  {
   "cell_type": "markdown",
   "metadata": {},
   "source": [
    "### Sleep duration among age groups"
   ]
  },
  {
   "cell_type": "code",
   "execution_count": 19,
   "metadata": {},
   "outputs": [
    {
     "data": {
      "image/png": "[encoded data removed]",
      "text/plain": [
       "<Figure size 640x480 with 1 Axes>"
      ]
     },
     "metadata": {},
     "output_type": "display_data"
    }
   ],
   "source": [
    "age_groups.plot(kind='bar', y='Sleep duration', colormap='cividis');"
   ]
  },
  {
   "cell_type": "markdown",
   "metadata": {},
   "source": [
    "### Sleep efficiency among smokers"
   ]
  },
  {
   "cell_type": "code",
   "execution_count": 20,
   "metadata": {},
   "outputs": [
    {
     "data": {
      "text/html": [
       "<div>\n",
       "<style scoped>\n",
       "    .dataframe tbody tr th:only-of-type {\n",
       "        vertical-align: middle;\n",
       "    }\n",
       "\n",
       "    .dataframe tbody tr th {\n",
       "        vertical-align: top;\n",
       "    }\n",
       "\n",
       "    .dataframe thead th {\n",
       "        text-align: right;\n",
       "    }\n",
       "</style>\n",
       "<table border=\"1\" class=\"dataframe\">\n",
       "  <thead>\n",
       "    <tr style=\"text-align: right;\">\n",
       "      <th></th>\n",
       "      <th>Sleep efficiency</th>\n",
       "    </tr>\n",
       "    <tr>\n",
       "      <th>Smoking status</th>\n",
       "      <th></th>\n",
       "    </tr>\n",
       "  </thead>\n",
       "  <tbody>\n",
       "    <tr>\n",
       "      <th>No</th>\n",
       "      <td>0.817081</td>\n",
       "    </tr>\n",
       "    <tr>\n",
       "      <th>Yes</th>\n",
       "      <td>0.734416</td>\n",
       "    </tr>\n",
       "  </tbody>\n",
       "</table>\n",
       "</div>"
      ],
      "text/plain": [
       "                Sleep efficiency\n",
       "Smoking status                  \n",
       "No                      0.817081\n",
       "Yes                     0.734416"
      ]
     },
     "execution_count": 20,
     "metadata": {},
     "output_type": "execute_result"
    }
   ],
   "source": [
    "smoking_group = sleep.groupby(['Smoking status'])[['Sleep efficiency']].mean()\n",
    "smoking_group"
   ]
  },
  {
   "cell_type": "code",
   "execution_count": 21,
   "metadata": {},
   "outputs": [
    {
     "data": {
      "image/png": "[encoded data removed]",
      "text/plain": [
       "<Figure size 400x700 with 1 Axes>"
      ]
     },
     "metadata": {},
     "output_type": "display_data"
    }
   ],
   "source": [
    "smoking_group.plot(kind='bar', figsize=(4,7));"
   ]
  },
  {
   "cell_type": "code",
   "execution_count": 22,
   "metadata": {},
   "outputs": [],
   "source": [
    "## It is clear here that Smokers generally have a lower sleep efficiency compared to non-smokers. "
   ]
  },
  {
   "cell_type": "markdown",
   "metadata": {},
   "source": [
    "### Effect of Exercise on Sleep efficiency"
   ]
  },
  {
   "cell_type": "code",
   "execution_count": 23,
   "metadata": {},
   "outputs": [
    {
     "data": {
      "text/plain": [
       "Exercise frequency\n",
       "3.0    130\n",
       "0.0    116\n",
       "1.0     97\n",
       "2.0     54\n",
       "4.0     41\n",
       "5.0      8\n",
       "Name: count, dtype: int64"
      ]
     },
     "execution_count": 23,
     "metadata": {},
     "output_type": "execute_result"
    }
   ],
   "source": [
    "sleep['Exercise frequency'].value_counts()"
   ]
  },
  {
   "cell_type": "code",
   "execution_count": 24,
   "metadata": {
    "scrolled": true
   },
   "outputs": [
    {
     "data": {
      "text/html": [
       "<div>\n",
       "<style scoped>\n",
       "    .dataframe tbody tr th:only-of-type {\n",
       "        vertical-align: middle;\n",
       "    }\n",
       "\n",
       "    .dataframe tbody tr th {\n",
       "        vertical-align: top;\n",
       "    }\n",
       "\n",
       "    .dataframe thead th {\n",
       "        text-align: right;\n",
       "    }\n",
       "</style>\n",
       "<table border=\"1\" class=\"dataframe\">\n",
       "  <thead>\n",
       "    <tr style=\"text-align: right;\">\n",
       "      <th></th>\n",
       "      <th>Exercise frequency</th>\n",
       "      <th>Sleep efficiency</th>\n",
       "    </tr>\n",
       "  </thead>\n",
       "  <tbody>\n",
       "    <tr>\n",
       "      <th>0</th>\n",
       "      <td>0.0</td>\n",
       "      <td>0.743879</td>\n",
       "    </tr>\n",
       "    <tr>\n",
       "      <th>1</th>\n",
       "      <td>1.0</td>\n",
       "      <td>0.774124</td>\n",
       "    </tr>\n",
       "    <tr>\n",
       "      <th>2</th>\n",
       "      <td>2.0</td>\n",
       "      <td>0.810000</td>\n",
       "    </tr>\n",
       "    <tr>\n",
       "      <th>3</th>\n",
       "      <td>3.0</td>\n",
       "      <td>0.799154</td>\n",
       "    </tr>\n",
       "    <tr>\n",
       "      <th>4</th>\n",
       "      <td>4.0</td>\n",
       "      <td>0.881463</td>\n",
       "    </tr>\n",
       "    <tr>\n",
       "      <th>5</th>\n",
       "      <td>5.0</td>\n",
       "      <td>0.851250</td>\n",
       "    </tr>\n",
       "  </tbody>\n",
       "</table>\n",
       "</div>"
      ],
      "text/plain": [
       "   Exercise frequency  Sleep efficiency\n",
       "0                 0.0          0.743879\n",
       "1                 1.0          0.774124\n",
       "2                 2.0          0.810000\n",
       "3                 3.0          0.799154\n",
       "4                 4.0          0.881463\n",
       "5                 5.0          0.851250"
      ]
     },
     "execution_count": 24,
     "metadata": {},
     "output_type": "execute_result"
    }
   ],
   "source": [
    "exercise_group = sleep.groupby(['Exercise frequency'])[['Exercise frequency', 'Sleep efficiency']].mean()\n",
    "exercise_group = exercise_group.drop(columns=['Exercise frequency']).reset_index()\n",
    "exercise_group"
   ]
  },
  {
   "cell_type": "code",
   "execution_count": 25,
   "metadata": {},
   "outputs": [
    {
     "data": {
      "image/png": "[encoded data removed]",
      "text/plain": [
       "<Figure size 1300x500 with 1 Axes>"
      ]
     },
     "metadata": {},
     "output_type": "display_data"
    }
   ],
   "source": [
    "\n",
    "\n",
    "exercise_group.plot(\n",
    "    kind='barh', x='Exercise frequency', y='Sleep efficiency', figsize=(13,5)\n",
    ").legend(bbox_to_anchor=(1, 0.15));\n",
    "\n"
   ]
  },
  {
   "cell_type": "markdown",
   "metadata": {},
   "source": [
    "### Sleep efficiency is generally higher amongst people with a frequent level of exercising."
   ]
  },
  {
   "cell_type": "markdown",
   "metadata": {},
   "source": [
    "## 4. ***Cleaning dataset***"
   ]
  },
  {
   "cell_type": "code",
   "execution_count": 26,
   "metadata": {},
   "outputs": [],
   "source": [
    "sleep_clean = sleep.drop(columns=['ID', 'Bedtime', 'Wakeup time'])"
   ]
  },
  {
   "cell_type": "code",
   "execution_count": 27,
   "metadata": {},
   "outputs": [
    {
     "data": {
      "text/plain": [
       "Age                          int64\n",
       "Gender                      object\n",
       "Sleep duration             float64\n",
       "Sleep efficiency           float64\n",
       "REM sleep percentage       float64\n",
       "Deep sleep percentage      float64\n",
       "Light sleep percentage     float64\n",
       "Awakenings                 float64\n",
       "Caffeine consumption       float64\n",
       "Alcohol consumption        float64\n",
       "Smoking status              object\n",
       "Exercise frequency         float64\n",
       "age-binned                category\n",
       "dtype: object"
      ]
     },
     "execution_count": 27,
     "metadata": {},
     "output_type": "execute_result"
    }
   ],
   "source": [
    "sleep_clean.dtypes"
   ]
  },
  {
   "cell_type": "code",
   "execution_count": 28,
   "metadata": {},
   "outputs": [],
   "source": [
    "sleep_clean['Gender']=sleep_clean['Gender'].astype('category')\n",
    "sleep_clean['Smoking status']=sleep_clean['Smoking status'].astype('category')"
   ]
  },
  {
   "cell_type": "code",
   "execution_count": 29,
   "metadata": {},
   "outputs": [
    {
     "data": {
      "text/plain": [
       "Age                          int64\n",
       "Gender                    category\n",
       "Sleep duration             float64\n",
       "Sleep efficiency           float64\n",
       "REM sleep percentage       float64\n",
       "Deep sleep percentage      float64\n",
       "Light sleep percentage     float64\n",
       "Awakenings                 float64\n",
       "Caffeine consumption       float64\n",
       "Alcohol consumption        float64\n",
       "Smoking status            category\n",
       "Exercise frequency         float64\n",
       "age-binned                category\n",
       "dtype: object"
      ]
     },
     "execution_count": 29,
     "metadata": {},
     "output_type": "execute_result"
    }
   ],
   "source": [
    "sleep_clean.dtypes"
   ]
  },
  {
   "cell_type": "code",
   "execution_count": 30,
   "metadata": {},
   "outputs": [
    {
     "data": {
      "text/html": [
       "<div>\n",
       "<style scoped>\n",
       "    .dataframe tbody tr th:only-of-type {\n",
       "        vertical-align: middle;\n",
       "    }\n",
       "\n",
       "    .dataframe tbody tr th {\n",
       "        vertical-align: top;\n",
       "    }\n",
       "\n",
       "    .dataframe thead th {\n",
       "        text-align: right;\n",
       "    }\n",
       "</style>\n",
       "<table border=\"1\" class=\"dataframe\">\n",
       "  <thead>\n",
       "    <tr style=\"text-align: right;\">\n",
       "      <th></th>\n",
       "      <th>Age</th>\n",
       "      <th>Sleep duration</th>\n",
       "      <th>Sleep efficiency</th>\n",
       "      <th>REM sleep percentage</th>\n",
       "      <th>Deep sleep percentage</th>\n",
       "      <th>Light sleep percentage</th>\n",
       "      <th>Awakenings</th>\n",
       "      <th>Caffeine consumption</th>\n",
       "      <th>Alcohol consumption</th>\n",
       "      <th>Exercise frequency</th>\n",
       "      <th>...</th>\n",
       "      <th>Gender_Male</th>\n",
       "      <th>Smoking status_No</th>\n",
       "      <th>Smoking status_Yes</th>\n",
       "      <th>age-binned_Child</th>\n",
       "      <th>age-binned_Teen</th>\n",
       "      <th>age-binned_20+</th>\n",
       "      <th>age-binned_30+</th>\n",
       "      <th>age-binned_40+</th>\n",
       "      <th>age-binned_50+</th>\n",
       "      <th>age-binned_60+</th>\n",
       "    </tr>\n",
       "  </thead>\n",
       "  <tbody>\n",
       "    <tr>\n",
       "      <th>0</th>\n",
       "      <td>65</td>\n",
       "      <td>6.0</td>\n",
       "      <td>0.88</td>\n",
       "      <td>0.18</td>\n",
       "      <td>0.70</td>\n",
       "      <td>0.12</td>\n",
       "      <td>0.0</td>\n",
       "      <td>0.0</td>\n",
       "      <td>0.0</td>\n",
       "      <td>3.0</td>\n",
       "      <td>...</td>\n",
       "      <td>False</td>\n",
       "      <td>False</td>\n",
       "      <td>True</td>\n",
       "      <td>False</td>\n",
       "      <td>False</td>\n",
       "      <td>False</td>\n",
       "      <td>False</td>\n",
       "      <td>False</td>\n",
       "      <td>False</td>\n",
       "      <td>True</td>\n",
       "    </tr>\n",
       "    <tr>\n",
       "      <th>1</th>\n",
       "      <td>69</td>\n",
       "      <td>7.0</td>\n",
       "      <td>0.66</td>\n",
       "      <td>0.19</td>\n",
       "      <td>0.28</td>\n",
       "      <td>0.53</td>\n",
       "      <td>3.0</td>\n",
       "      <td>0.0</td>\n",
       "      <td>3.0</td>\n",
       "      <td>3.0</td>\n",
       "      <td>...</td>\n",
       "      <td>True</td>\n",
       "      <td>False</td>\n",
       "      <td>True</td>\n",
       "      <td>False</td>\n",
       "      <td>False</td>\n",
       "      <td>False</td>\n",
       "      <td>False</td>\n",
       "      <td>False</td>\n",
       "      <td>False</td>\n",
       "      <td>True</td>\n",
       "    </tr>\n",
       "    <tr>\n",
       "      <th>2</th>\n",
       "      <td>40</td>\n",
       "      <td>8.0</td>\n",
       "      <td>0.89</td>\n",
       "      <td>0.20</td>\n",
       "      <td>0.70</td>\n",
       "      <td>0.10</td>\n",
       "      <td>1.0</td>\n",
       "      <td>0.0</td>\n",
       "      <td>0.0</td>\n",
       "      <td>3.0</td>\n",
       "      <td>...</td>\n",
       "      <td>False</td>\n",
       "      <td>True</td>\n",
       "      <td>False</td>\n",
       "      <td>False</td>\n",
       "      <td>False</td>\n",
       "      <td>False</td>\n",
       "      <td>False</td>\n",
       "      <td>True</td>\n",
       "      <td>False</td>\n",
       "      <td>False</td>\n",
       "    </tr>\n",
       "    <tr>\n",
       "      <th>3</th>\n",
       "      <td>40</td>\n",
       "      <td>6.0</td>\n",
       "      <td>0.51</td>\n",
       "      <td>0.23</td>\n",
       "      <td>0.25</td>\n",
       "      <td>0.52</td>\n",
       "      <td>3.0</td>\n",
       "      <td>50.0</td>\n",
       "      <td>5.0</td>\n",
       "      <td>1.0</td>\n",
       "      <td>...</td>\n",
       "      <td>False</td>\n",
       "      <td>False</td>\n",
       "      <td>True</td>\n",
       "      <td>False</td>\n",
       "      <td>False</td>\n",
       "      <td>False</td>\n",
       "      <td>False</td>\n",
       "      <td>True</td>\n",
       "      <td>False</td>\n",
       "      <td>False</td>\n",
       "    </tr>\n",
       "    <tr>\n",
       "      <th>4</th>\n",
       "      <td>57</td>\n",
       "      <td>8.0</td>\n",
       "      <td>0.76</td>\n",
       "      <td>0.27</td>\n",
       "      <td>0.55</td>\n",
       "      <td>0.18</td>\n",
       "      <td>3.0</td>\n",
       "      <td>0.0</td>\n",
       "      <td>3.0</td>\n",
       "      <td>3.0</td>\n",
       "      <td>...</td>\n",
       "      <td>True</td>\n",
       "      <td>True</td>\n",
       "      <td>False</td>\n",
       "      <td>False</td>\n",
       "      <td>False</td>\n",
       "      <td>False</td>\n",
       "      <td>False</td>\n",
       "      <td>False</td>\n",
       "      <td>True</td>\n",
       "      <td>False</td>\n",
       "    </tr>\n",
       "  </tbody>\n",
       "</table>\n",
       "<p>5 rows × 21 columns</p>\n",
       "</div>"
      ],
      "text/plain": [
       "   Age  Sleep duration  Sleep efficiency  REM sleep percentage   \n",
       "0   65             6.0              0.88                  0.18  \\\n",
       "1   69             7.0              0.66                  0.19   \n",
       "2   40             8.0              0.89                  0.20   \n",
       "3   40             6.0              0.51                  0.23   \n",
       "4   57             8.0              0.76                  0.27   \n",
       "\n",
       "   Deep sleep percentage  Light sleep percentage  Awakenings   \n",
       "0                   0.70                    0.12         0.0  \\\n",
       "1                   0.28                    0.53         3.0   \n",
       "2                   0.70                    0.10         1.0   \n",
       "3                   0.25                    0.52         3.0   \n",
       "4                   0.55                    0.18         3.0   \n",
       "\n",
       "   Caffeine consumption  Alcohol consumption  Exercise frequency  ...   \n",
       "0                   0.0                  0.0                 3.0  ...  \\\n",
       "1                   0.0                  3.0                 3.0  ...   \n",
       "2                   0.0                  0.0                 3.0  ...   \n",
       "3                  50.0                  5.0                 1.0  ...   \n",
       "4                   0.0                  3.0                 3.0  ...   \n",
       "\n",
       "   Gender_Male  Smoking status_No  Smoking status_Yes  age-binned_Child   \n",
       "0        False              False                True             False  \\\n",
       "1         True              False                True             False   \n",
       "2        False               True               False             False   \n",
       "3        False              False                True             False   \n",
       "4         True               True               False             False   \n",
       "\n",
       "   age-binned_Teen  age-binned_20+  age-binned_30+  age-binned_40+   \n",
       "0            False           False           False           False  \\\n",
       "1            False           False           False           False   \n",
       "2            False           False           False            True   \n",
       "3            False           False           False            True   \n",
       "4            False           False           False           False   \n",
       "\n",
       "   age-binned_50+  age-binned_60+  \n",
       "0           False            True  \n",
       "1           False            True  \n",
       "2           False           False  \n",
       "3           False           False  \n",
       "4            True           False  \n",
       "\n",
       "[5 rows x 21 columns]"
      ]
     },
     "execution_count": 30,
     "metadata": {},
     "output_type": "execute_result"
    }
   ],
   "source": [
    "sleep_clean = pd.get_dummies(sleep_clean, columns = ['Gender', 'Smoking status', 'age-binned'])\n",
    "sleep_clean.head()"
   ]
  },
  {
   "cell_type": "code",
   "execution_count": 31,
   "metadata": {
    "scrolled": false
   },
   "outputs": [
    {
     "data": {
      "text/plain": [
       "Age                        0\n",
       "Sleep duration             0\n",
       "Sleep efficiency           0\n",
       "REM sleep percentage       0\n",
       "Deep sleep percentage      0\n",
       "Light sleep percentage     0\n",
       "Awakenings                20\n",
       "Caffeine consumption      25\n",
       "Alcohol consumption       14\n",
       "Exercise frequency         6\n",
       "Gender_Female              0\n",
       "Gender_Male                0\n",
       "Smoking status_No          0\n",
       "Smoking status_Yes         0\n",
       "age-binned_Child           0\n",
       "age-binned_Teen            0\n",
       "age-binned_20+             0\n",
       "age-binned_30+             0\n",
       "age-binned_40+             0\n",
       "age-binned_50+             0\n",
       "age-binned_60+             0\n",
       "dtype: int64"
      ]
     },
     "execution_count": 31,
     "metadata": {},
     "output_type": "execute_result"
    }
   ],
   "source": [
    "#To check for missing data \n",
    "sleep_clean.isna().sum()"
   ]
  },
  {
   "cell_type": "markdown",
   "metadata": {},
   "source": [
    "There are missing data for `Awakenings`, `Caffeine_consumption`, `Alcohol_consumption` and `Exercise_frequency`."
   ]
  },
  {
   "cell_type": "markdown",
   "metadata": {},
   "source": [
    "### Since all of these features are either ordinal or descrete, we can assume that the missing datas should have values as zero."
   ]
  },
  {
   "cell_type": "code",
   "execution_count": 32,
   "metadata": {},
   "outputs": [
    {
     "data": {
      "text/plain": [
       "Age                       0\n",
       "Sleep duration            0\n",
       "Sleep efficiency          0\n",
       "REM sleep percentage      0\n",
       "Deep sleep percentage     0\n",
       "Light sleep percentage    0\n",
       "Awakenings                0\n",
       "Caffeine consumption      0\n",
       "Alcohol consumption       0\n",
       "Exercise frequency        0\n",
       "Gender_Female             0\n",
       "Gender_Male               0\n",
       "Smoking status_No         0\n",
       "Smoking status_Yes        0\n",
       "age-binned_Child          0\n",
       "age-binned_Teen           0\n",
       "age-binned_20+            0\n",
       "age-binned_30+            0\n",
       "age-binned_40+            0\n",
       "age-binned_50+            0\n",
       "age-binned_60+            0\n",
       "dtype: int64"
      ]
     },
     "execution_count": 32,
     "metadata": {},
     "output_type": "execute_result"
    }
   ],
   "source": [
    "# Replace NaNs with zeros in all columns\n",
    "sleep_clean.fillna(0, inplace=True)\n",
    "sleep_clean.isna().sum()"
   ]
  },
  {
   "cell_type": "markdown",
   "metadata": {},
   "source": [
    "### Correlation Heatmap plot"
   ]
  },
  {
   "cell_type": "code",
   "execution_count": null,
   "metadata": {
    "scrolled": false
   },
   "outputs": [],
   "source": [
    "\n",
    "# df_clean_without_age_bin = df_clean[df_clean.columns[~df_clean.columns.isin(['age-binned'])]]\n",
    "\n",
    "# print(df_clean_without_age_bin)\n",
    "\n",
    "sns.set(rc={'figure.figsize':(12,8)})\n",
    "sns.heatmap(sleep_clean.corr(), annot=True);"
   ]
  },
  {
   "cell_type": "markdown",
   "metadata": {},
   "source": [
    "### From the correlation plot, it is observed that Deep sleep percentage has a strong positive correlation with our target feature, Sleep efficiency.\n",
    "\n",
    "### Also, Light sleep percentage is strongly negatively correlated with Sleep efficiency and in summary says that Sleep efficiency decreases with increase in Light sleep percentage and increases with an increase as well in Deep sleep percentage."
   ]
  },
  {
   "cell_type": "markdown",
   "metadata": {},
   "source": [
    "## Checking and Dealing with outliers"
   ]
  },
  {
   "cell_type": "code",
   "execution_count": 34,
   "metadata": {},
   "outputs": [
    {
     "name": "stdout",
     "output_type": "stream",
     "text": [
      "Box Plots of the continuous features\n"
     ]
    },
    {
     "data": {
      "image/png": "[encoded data removed]",
      "text/plain": [
       "<Figure size 1800x900 with 5 Axes>"
      ]
     },
     "metadata": {},
     "output_type": "display_data"
    }
   ],
   "source": [
    "# Next step in our process flow is to check for any outliers present in the continuous attributes/features.\n",
    "# We can identify with visuals and let us use z score technique.\n",
    "\n",
    "column_names_=['Age','Sleep duration','REM sleep percentage','Deep sleep percentage','Light sleep percentage']\n",
    "plt.figure(figsize=(18,9))\n",
    "for i in range(0,len(column_names_)):\n",
    "    plt.subplot(2,3,i+1)\n",
    "    sns.boxplot(sleep_clean[column_names_[i]],color='blue')\n",
    "print('Box Plots of the continuous features')\n",
    "plt.show()"
   ]
  },
  {
   "cell_type": "code",
   "execution_count": 90,
   "metadata": {},
   "outputs": [],
   "source": [
    "###there are a little bit outlier so i exceptthe outlier"
   ]
  },
  {
   "cell_type": "markdown",
   "metadata": {},
   "source": [
    "## Split the Data"
   ]
  },
  {
   "cell_type": "code",
   "execution_count": 36,
   "metadata": {},
   "outputs": [
    {
     "data": {
      "text/html": [
       "<div>\n",
       "<style scoped>\n",
       "    .dataframe tbody tr th:only-of-type {\n",
       "        vertical-align: middle;\n",
       "    }\n",
       "\n",
       "    .dataframe tbody tr th {\n",
       "        vertical-align: top;\n",
       "    }\n",
       "\n",
       "    .dataframe thead th {\n",
       "        text-align: right;\n",
       "    }\n",
       "</style>\n",
       "<table border=\"1\" class=\"dataframe\">\n",
       "  <thead>\n",
       "    <tr style=\"text-align: right;\">\n",
       "      <th></th>\n",
       "      <th>Age</th>\n",
       "      <th>Sleep duration</th>\n",
       "      <th>Sleep efficiency</th>\n",
       "      <th>REM sleep percentage</th>\n",
       "      <th>Deep sleep percentage</th>\n",
       "      <th>Light sleep percentage</th>\n",
       "      <th>Awakenings</th>\n",
       "      <th>Caffeine consumption</th>\n",
       "      <th>Alcohol consumption</th>\n",
       "      <th>Exercise frequency</th>\n",
       "      <th>...</th>\n",
       "      <th>Gender_Male</th>\n",
       "      <th>Smoking status_No</th>\n",
       "      <th>Smoking status_Yes</th>\n",
       "      <th>age-binned_Child</th>\n",
       "      <th>age-binned_Teen</th>\n",
       "      <th>age-binned_20+</th>\n",
       "      <th>age-binned_30+</th>\n",
       "      <th>age-binned_40+</th>\n",
       "      <th>age-binned_50+</th>\n",
       "      <th>age-binned_60+</th>\n",
       "    </tr>\n",
       "  </thead>\n",
       "  <tbody>\n",
       "    <tr>\n",
       "      <th>0</th>\n",
       "      <td>65</td>\n",
       "      <td>6.0</td>\n",
       "      <td>0.88</td>\n",
       "      <td>0.18</td>\n",
       "      <td>0.70</td>\n",
       "      <td>0.12</td>\n",
       "      <td>0.0</td>\n",
       "      <td>0.0</td>\n",
       "      <td>0.0</td>\n",
       "      <td>3.0</td>\n",
       "      <td>...</td>\n",
       "      <td>False</td>\n",
       "      <td>False</td>\n",
       "      <td>True</td>\n",
       "      <td>False</td>\n",
       "      <td>False</td>\n",
       "      <td>False</td>\n",
       "      <td>False</td>\n",
       "      <td>False</td>\n",
       "      <td>False</td>\n",
       "      <td>True</td>\n",
       "    </tr>\n",
       "    <tr>\n",
       "      <th>1</th>\n",
       "      <td>69</td>\n",
       "      <td>7.0</td>\n",
       "      <td>0.66</td>\n",
       "      <td>0.19</td>\n",
       "      <td>0.28</td>\n",
       "      <td>0.53</td>\n",
       "      <td>3.0</td>\n",
       "      <td>0.0</td>\n",
       "      <td>3.0</td>\n",
       "      <td>3.0</td>\n",
       "      <td>...</td>\n",
       "      <td>True</td>\n",
       "      <td>False</td>\n",
       "      <td>True</td>\n",
       "      <td>False</td>\n",
       "      <td>False</td>\n",
       "      <td>False</td>\n",
       "      <td>False</td>\n",
       "      <td>False</td>\n",
       "      <td>False</td>\n",
       "      <td>True</td>\n",
       "    </tr>\n",
       "    <tr>\n",
       "      <th>2</th>\n",
       "      <td>40</td>\n",
       "      <td>8.0</td>\n",
       "      <td>0.89</td>\n",
       "      <td>0.20</td>\n",
       "      <td>0.70</td>\n",
       "      <td>0.10</td>\n",
       "      <td>1.0</td>\n",
       "      <td>0.0</td>\n",
       "      <td>0.0</td>\n",
       "      <td>3.0</td>\n",
       "      <td>...</td>\n",
       "      <td>False</td>\n",
       "      <td>True</td>\n",
       "      <td>False</td>\n",
       "      <td>False</td>\n",
       "      <td>False</td>\n",
       "      <td>False</td>\n",
       "      <td>False</td>\n",
       "      <td>True</td>\n",
       "      <td>False</td>\n",
       "      <td>False</td>\n",
       "    </tr>\n",
       "    <tr>\n",
       "      <th>3</th>\n",
       "      <td>40</td>\n",
       "      <td>6.0</td>\n",
       "      <td>0.51</td>\n",
       "      <td>0.23</td>\n",
       "      <td>0.25</td>\n",
       "      <td>0.52</td>\n",
       "      <td>3.0</td>\n",
       "      <td>50.0</td>\n",
       "      <td>5.0</td>\n",
       "      <td>1.0</td>\n",
       "      <td>...</td>\n",
       "      <td>False</td>\n",
       "      <td>False</td>\n",
       "      <td>True</td>\n",
       "      <td>False</td>\n",
       "      <td>False</td>\n",
       "      <td>False</td>\n",
       "      <td>False</td>\n",
       "      <td>True</td>\n",
       "      <td>False</td>\n",
       "      <td>False</td>\n",
       "    </tr>\n",
       "    <tr>\n",
       "      <th>4</th>\n",
       "      <td>57</td>\n",
       "      <td>8.0</td>\n",
       "      <td>0.76</td>\n",
       "      <td>0.27</td>\n",
       "      <td>0.55</td>\n",
       "      <td>0.18</td>\n",
       "      <td>3.0</td>\n",
       "      <td>0.0</td>\n",
       "      <td>3.0</td>\n",
       "      <td>3.0</td>\n",
       "      <td>...</td>\n",
       "      <td>True</td>\n",
       "      <td>True</td>\n",
       "      <td>False</td>\n",
       "      <td>False</td>\n",
       "      <td>False</td>\n",
       "      <td>False</td>\n",
       "      <td>False</td>\n",
       "      <td>False</td>\n",
       "      <td>True</td>\n",
       "      <td>False</td>\n",
       "    </tr>\n",
       "  </tbody>\n",
       "</table>\n",
       "<p>5 rows × 21 columns</p>\n",
       "</div>"
      ],
      "text/plain": [
       "   Age  Sleep duration  Sleep efficiency  REM sleep percentage   \n",
       "0   65             6.0              0.88                  0.18  \\\n",
       "1   69             7.0              0.66                  0.19   \n",
       "2   40             8.0              0.89                  0.20   \n",
       "3   40             6.0              0.51                  0.23   \n",
       "4   57             8.0              0.76                  0.27   \n",
       "\n",
       "   Deep sleep percentage  Light sleep percentage  Awakenings   \n",
       "0                   0.70                    0.12         0.0  \\\n",
       "1                   0.28                    0.53         3.0   \n",
       "2                   0.70                    0.10         1.0   \n",
       "3                   0.25                    0.52         3.0   \n",
       "4                   0.55                    0.18         3.0   \n",
       "\n",
       "   Caffeine consumption  Alcohol consumption  Exercise frequency  ...   \n",
       "0                   0.0                  0.0                 3.0  ...  \\\n",
       "1                   0.0                  3.0                 3.0  ...   \n",
       "2                   0.0                  0.0                 3.0  ...   \n",
       "3                  50.0                  5.0                 1.0  ...   \n",
       "4                   0.0                  3.0                 3.0  ...   \n",
       "\n",
       "   Gender_Male  Smoking status_No  Smoking status_Yes  age-binned_Child   \n",
       "0        False              False                True             False  \\\n",
       "1         True              False                True             False   \n",
       "2        False               True               False             False   \n",
       "3        False              False                True             False   \n",
       "4         True               True               False             False   \n",
       "\n",
       "   age-binned_Teen  age-binned_20+  age-binned_30+  age-binned_40+   \n",
       "0            False           False           False           False  \\\n",
       "1            False           False           False           False   \n",
       "2            False           False           False            True   \n",
       "3            False           False           False            True   \n",
       "4            False           False           False           False   \n",
       "\n",
       "   age-binned_50+  age-binned_60+  \n",
       "0           False            True  \n",
       "1           False            True  \n",
       "2           False           False  \n",
       "3           False           False  \n",
       "4            True           False  \n",
       "\n",
       "[5 rows x 21 columns]"
      ]
     },
     "execution_count": 36,
     "metadata": {},
     "output_type": "execute_result"
    }
   ],
   "source": [
    "sleep_clean.head()"
   ]
  },
  {
   "cell_type": "code",
   "execution_count": 37,
   "metadata": {},
   "outputs": [
    {
     "data": {
      "text/plain": [
       "Index(['Age', 'Sleep duration', 'Sleep efficiency', 'REM sleep percentage',\n",
       "       'Deep sleep percentage', 'Light sleep percentage', 'Awakenings',\n",
       "       'Caffeine consumption', 'Alcohol consumption', 'Exercise frequency',\n",
       "       'Gender_Female', 'Gender_Male', 'Smoking status_No',\n",
       "       'Smoking status_Yes'],\n",
       "      dtype='object')"
      ]
     },
     "execution_count": 37,
     "metadata": {},
     "output_type": "execute_result"
    }
   ],
   "source": [
    "sleep_clean.columns[0:14]"
   ]
  },
  {
   "cell_type": "code",
   "execution_count": 38,
   "metadata": {},
   "outputs": [],
   "source": [
    "X1 = sleep_clean.drop(columns=['Age', 'Sleep efficiency'])\n",
    "X2 = sleep_clean[sleep_clean.columns[0:14]].drop(columns=['Sleep efficiency'])"
   ]
  },
  {
   "cell_type": "code",
   "execution_count": 39,
   "metadata": {},
   "outputs": [],
   "source": [
    "y = sleep_clean['Sleep efficiency']"
   ]
  },
  {
   "cell_type": "code",
   "execution_count": 40,
   "metadata": {},
   "outputs": [],
   "source": [
    "from sklearn.model_selection import train_test_split"
   ]
  },
  {
   "cell_type": "code",
   "execution_count": 41,
   "metadata": {},
   "outputs": [],
   "source": [
    "X1_train, X1_test, y_train, y_test = train_test_split(X1, y, test_size=0.3, random_state=42)\n",
    "X2_train, X2_test, y_train, y_test = train_test_split(X2, y, test_size=0.3, random_state=42)"
   ]
  },
  {
   "cell_type": "markdown",
   "metadata": {},
   "source": [
    "### In the test split the test_size parameter is set to 0.3, which splits the data into 70% training data and 30% test data."
   ]
  },
  {
   "cell_type": "code",
   "execution_count": 42,
   "metadata": {},
   "outputs": [
    {
     "name": "stdout",
     "output_type": "stream",
     "text": [
      "X1_train shape: (316, 19)\n",
      "X1_test shape: (136, 19)\n",
      "\n",
      "X2_train shape: (316, 13)\n",
      "X2_test shape: (136, 13)\n",
      "\n",
      "y_train shape: (316,)\n",
      "y_test shape: (136,)\n"
     ]
    }
   ],
   "source": [
    "print(\"X1_train shape: {}\".format(X1_train.shape))\n",
    "print(\"X1_test shape: {}\".format(X1_test.shape))\n",
    "print()\n",
    "print(\"X2_train shape: {}\".format(X2_train.shape))\n",
    "print(\"X2_test shape: {}\".format(X2_test.shape))\n",
    "print()\n",
    "print(\"y_train shape: {}\".format(y_train.shape))\n",
    "print(\"y_test shape: {}\".format(y_test.shape))"
   ]
  },
  {
   "cell_type": "markdown",
   "metadata": {},
   "source": [
    "## 5. ***Model training and exploration***"
   ]
  },
  {
   "cell_type": "code",
   "execution_count": 43,
   "metadata": {},
   "outputs": [],
   "source": [
    "from sklearn.ensemble import GradientBoostingRegressor, RandomForestRegressor\n",
    "from sklearn.linear_model import LinearRegression, ElasticNet, Lasso, Ridge\n",
    "from xgboost import XGBRegressor"
   ]
  },
  {
   "cell_type": "code",
   "execution_count": 44,
   "metadata": {},
   "outputs": [],
   "source": [
    "from sklearn.metrics import r2_score, mean_absolute_error, mean_squared_error"
   ]
  },
  {
   "cell_type": "code",
   "execution_count": 45,
   "metadata": {},
   "outputs": [],
   "source": [
    "models = {'GradientBoostingRegressor': GradientBoostingRegressor(random_state=42),\n",
    "          'RandomForestRegressor': RandomForestRegressor(random_state=42),\n",
    "         'LinearRegression': LinearRegression(), 'ElasticNet': ElasticNet(alpha=0.001, random_state=42),\n",
    "          'Lasso': Lasso(alpha=0.001, random_state=42), 'Ridge': Ridge(alpha=0.001, random_state=42),\n",
    "         'XGBRegressor': XGBRegressor(eval_metric=r2_score)}"
   ]
  },
  {
   "cell_type": "code",
   "execution_count": 46,
   "metadata": {},
   "outputs": [],
   "source": [
    "def train(model, X_train, y_train):\n",
    "    model.fit(X_train, y_train)\n",
    "    return model"
   ]
  },
  {
   "cell_type": "code",
   "execution_count": 47,
   "metadata": {},
   "outputs": [],
   "source": [
    "def score(model, X_test, y_test):\n",
    "    predictions = model.predict(X_test)\n",
    "    \n",
    "    r2 = r2_score(y_test, predictions)\n",
    "    mae = mean_absolute_error(y_test, predictions)\n",
    "    mse = mean_squared_error(y_test, predictions)\n",
    "    rmse = np.sqrt(mean_squared_error(y_test, predictions))\n",
    "    rss = np.sum(np.square(y_test-predictions))\n",
    "    \n",
    "    print('RMSE:', rmse)\n",
    "    print('R-Squared:', r2)\n",
    "    print('MSE:', mse)\n",
    "    print('RSS', rss)\n",
    "    print('MAE:', mae)\n",
    "    print()\n",
    "    return [r2, mae, mse, rmse, rss]"
   ]
  },
  {
   "cell_type": "code",
   "execution_count": 48,
   "metadata": {},
   "outputs": [],
   "source": [
    "scoring1 = pd.DataFrame()\n",
    "scoring1['Metric'] = ['R2_score', 'MAE', 'MSE', 'RMSE', 'RSS']"
   ]
  },
  {
   "cell_type": "code",
   "execution_count": 49,
   "metadata": {},
   "outputs": [
    {
     "name": "stdout",
     "output_type": "stream",
     "text": [
      "Performance of GradientBoostingRegressor on Test:\n",
      "================================================\n",
      "Test set:\n",
      "****************\n",
      "RMSE: 0.05192678103079729\n",
      "R-Squared: 0.8673757687421979\n",
      "MSE: 0.002696390588220369\n",
      "RSS 0.3667091199979702\n",
      "MAE: 0.04027384491643699\n",
      "\n",
      "Performance of RandomForestRegressor on Test:\n",
      "================================================\n",
      "Test set:\n",
      "****************\n",
      "RMSE: 0.05294012477234988\n",
      "R-Squared: 0.8621489755043361\n",
      "MSE: 0.002802656810911973\n",
      "RSS 0.3811613262840283\n",
      "MAE: 0.04035251838235291\n",
      "\n",
      "Performance of LinearRegression on Test:\n",
      "================================================\n",
      "Test set:\n",
      "****************\n",
      "RMSE: 0.06177878808757686\n",
      "R-Squared: 0.8122764121504931\n",
      "MSE: 0.0038166186575697278\n",
      "RSS 0.519060137429483\n",
      "MAE: 0.04970224883851021\n",
      "\n",
      "Performance of ElasticNet on Test:\n",
      "================================================\n",
      "Test set:\n",
      "****************\n",
      "RMSE: 0.06296150283553853\n",
      "R-Squared: 0.8050199181267763\n",
      "MSE: 0.003964150839309527\n",
      "RSS 0.5391245141460956\n",
      "MAE: 0.05115476433671451\n",
      "\n",
      "Performance of Lasso on Test:\n",
      "================================================\n",
      "Test set:\n",
      "****************\n",
      "RMSE: 0.06284050331398086\n",
      "R-Squared: 0.8057686240981619\n",
      "MSE: 0.003948928856754439\n",
      "RSS 0.5370543245186037\n",
      "MAE: 0.05076112638406618\n",
      "\n",
      "Performance of Ridge on Test:\n",
      "================================================\n",
      "Test set:\n",
      "****************\n",
      "RMSE: 0.061781799889122024\n",
      "R-Squared: 0.8122581081341427\n",
      "MSE: 0.0038169907975395185\n",
      "RSS 0.5191107484653745\n",
      "MAE: 0.04970773132338794\n",
      "\n",
      "Performance of XGBRegressor on Test:\n",
      "================================================\n",
      "Test set:\n",
      "****************\n",
      "RMSE: 0.05885468510497573\n",
      "R-Squared: 0.8296264558378584\n",
      "MSE: 0.003463873958805852\n",
      "RSS 0.4710868583975959\n",
      "MAE: 0.04443421561928357\n",
      "\n"
     ]
    }
   ],
   "source": [
    "# print(X1_train)\n",
    "\n",
    "# Using the first training set X1_train\n",
    "for name, func in models.items():\n",
    "    print(f'Performance of {name} on Test:')\n",
    "    print('=='*24)\n",
    "    print ('Test set:')\n",
    "    print(\"**\"*8)\n",
    "    \n",
    "\n",
    "    \n",
    "    model = train(func, X1_train, y_train)\n",
    "    results = score(model, X1_test, y_test)\n",
    "    scoring1[name] = results"
   ]
  },
  {
   "cell_type": "code",
   "execution_count": 50,
   "metadata": {},
   "outputs": [
    {
     "data": {
      "text/html": [
       "<div>\n",
       "<style scoped>\n",
       "    .dataframe tbody tr th:only-of-type {\n",
       "        vertical-align: middle;\n",
       "    }\n",
       "\n",
       "    .dataframe tbody tr th {\n",
       "        vertical-align: top;\n",
       "    }\n",
       "\n",
       "    .dataframe thead th {\n",
       "        text-align: right;\n",
       "    }\n",
       "</style>\n",
       "<table border=\"1\" class=\"dataframe\">\n",
       "  <thead>\n",
       "    <tr style=\"text-align: right;\">\n",
       "      <th></th>\n",
       "      <th>Metric</th>\n",
       "      <th>GradientBoostingRegressor</th>\n",
       "      <th>RandomForestRegressor</th>\n",
       "      <th>LinearRegression</th>\n",
       "      <th>ElasticNet</th>\n",
       "      <th>Lasso</th>\n",
       "      <th>Ridge</th>\n",
       "      <th>XGBRegressor</th>\n",
       "    </tr>\n",
       "  </thead>\n",
       "  <tbody>\n",
       "    <tr>\n",
       "      <th>0</th>\n",
       "      <td>R2_score</td>\n",
       "      <td>0.867376</td>\n",
       "      <td>0.862149</td>\n",
       "      <td>0.812276</td>\n",
       "      <td>0.805020</td>\n",
       "      <td>0.805769</td>\n",
       "      <td>0.812258</td>\n",
       "      <td>0.829626</td>\n",
       "    </tr>\n",
       "    <tr>\n",
       "      <th>1</th>\n",
       "      <td>MAE</td>\n",
       "      <td>0.040274</td>\n",
       "      <td>0.040353</td>\n",
       "      <td>0.049702</td>\n",
       "      <td>0.051155</td>\n",
       "      <td>0.050761</td>\n",
       "      <td>0.049708</td>\n",
       "      <td>0.044434</td>\n",
       "    </tr>\n",
       "    <tr>\n",
       "      <th>2</th>\n",
       "      <td>MSE</td>\n",
       "      <td>0.002696</td>\n",
       "      <td>0.002803</td>\n",
       "      <td>0.003817</td>\n",
       "      <td>0.003964</td>\n",
       "      <td>0.003949</td>\n",
       "      <td>0.003817</td>\n",
       "      <td>0.003464</td>\n",
       "    </tr>\n",
       "    <tr>\n",
       "      <th>3</th>\n",
       "      <td>RMSE</td>\n",
       "      <td>0.051927</td>\n",
       "      <td>0.052940</td>\n",
       "      <td>0.061779</td>\n",
       "      <td>0.062962</td>\n",
       "      <td>0.062841</td>\n",
       "      <td>0.061782</td>\n",
       "      <td>0.058855</td>\n",
       "    </tr>\n",
       "    <tr>\n",
       "      <th>4</th>\n",
       "      <td>RSS</td>\n",
       "      <td>0.366709</td>\n",
       "      <td>0.381161</td>\n",
       "      <td>0.519060</td>\n",
       "      <td>0.539125</td>\n",
       "      <td>0.537054</td>\n",
       "      <td>0.519111</td>\n",
       "      <td>0.471087</td>\n",
       "    </tr>\n",
       "  </tbody>\n",
       "</table>\n",
       "</div>"
      ],
      "text/plain": [
       "     Metric  GradientBoostingRegressor  RandomForestRegressor   \n",
       "0  R2_score                   0.867376               0.862149  \\\n",
       "1       MAE                   0.040274               0.040353   \n",
       "2       MSE                   0.002696               0.002803   \n",
       "3      RMSE                   0.051927               0.052940   \n",
       "4       RSS                   0.366709               0.381161   \n",
       "\n",
       "   LinearRegression  ElasticNet     Lasso     Ridge  XGBRegressor  \n",
       "0          0.812276    0.805020  0.805769  0.812258      0.829626  \n",
       "1          0.049702    0.051155  0.050761  0.049708      0.044434  \n",
       "2          0.003817    0.003964  0.003949  0.003817      0.003464  \n",
       "3          0.061779    0.062962  0.062841  0.061782      0.058855  \n",
       "4          0.519060    0.539125  0.537054  0.519111      0.471087  "
      ]
     },
     "execution_count": 50,
     "metadata": {},
     "output_type": "execute_result"
    }
   ],
   "source": [
    "scoring1"
   ]
  },
  {
   "cell_type": "markdown",
   "metadata": {},
   "source": [
    "### The first training set makes use of the binned ages as categories rather than age as continuous data."
   ]
  },
  {
   "cell_type": "code",
   "execution_count": 51,
   "metadata": {},
   "outputs": [],
   "source": [
    "scoring2 = pd.DataFrame()\n",
    "scoring2['Metric'] = ['R2_score', 'MAE', 'MSE', 'RMSE', 'RSS']"
   ]
  },
  {
   "cell_type": "code",
   "execution_count": 52,
   "metadata": {},
   "outputs": [
    {
     "name": "stdout",
     "output_type": "stream",
     "text": [
      "Performance of GradientBoostingRegressor on Test:\n",
      "================================================\n",
      "Test set:\n",
      "****************\n",
      "RMSE: 0.04960931969884767\n",
      "R-Squared: 0.8789494909633471\n",
      "MSE: 0.002461084600982476\n",
      "RSS 0.33470750573361674\n",
      "MAE: 0.03851718350795349\n",
      "\n",
      "Performance of RandomForestRegressor on Test:\n",
      "================================================\n",
      "Test set:\n",
      "****************\n",
      "RMSE: 0.05110560361240482\n",
      "R-Squared: 0.8715372776319312\n",
      "MSE: 0.0026117827205882444\n",
      "RSS 0.3552024500000012\n",
      "MAE: 0.03886102941176475\n",
      "\n",
      "Performance of LinearRegression on Test:\n",
      "================================================\n",
      "Test set:\n",
      "****************\n",
      "RMSE: 0.061630728862976054\n",
      "R-Squared: 0.8131751317231632\n",
      "MSE: 0.00379834674018167\n",
      "RSS 0.5165751566647071\n",
      "MAE: 0.05010163855309618\n",
      "\n",
      "Performance of ElasticNet on Test:\n",
      "================================================\n",
      "Test set:\n",
      "****************\n",
      "RMSE: 0.06275598050258868\n",
      "R-Squared: 0.8062907695413492\n",
      "MSE: 0.003938313088841291\n",
      "RSS 0.5356105800824156\n",
      "MAE: 0.05173830804806547\n",
      "\n",
      "Performance of Lasso on Test:\n",
      "================================================\n",
      "Test set:\n",
      "****************\n",
      "RMSE: 0.062321580631405624\n",
      "R-Squared: 0.8089632169610006\n",
      "MSE: 0.003883979412396792\n",
      "RSS 0.5282212000859637\n",
      "MAE: 0.05132908753994786\n",
      "\n",
      "Performance of Ridge on Test:\n",
      "================================================\n",
      "Test set:\n",
      "****************\n",
      "RMSE: 0.0616338338658131\n",
      "R-Squared: 0.8131563064920013\n",
      "MSE: 0.0037987294769986496\n",
      "RSS 0.5166272088718163\n",
      "MAE: 0.050106458819589875\n",
      "\n",
      "Performance of XGBRegressor on Test:\n",
      "================================================\n",
      "Test set:\n",
      "****************\n",
      "RMSE: 0.05674236809467525\n",
      "R-Squared: 0.8416365368420516\n",
      "MSE: 0.0032196963369916197\n",
      "RSS 0.4378787018308603\n",
      "MAE: 0.042383948538233254\n",
      "\n"
     ]
    }
   ],
   "source": [
    "# Using the second training set X2_train\n",
    "for name, func in models.items():\n",
    "    print(f'Performance of {name} on Test:')\n",
    "    print('=='*24)\n",
    "    print ('Test set:')\n",
    "    print(\"**\"*8)\n",
    "    \n",
    "    model = train(func, X2_train, y_train)\n",
    "    results = score(model, X2_test, y_test)\n",
    "    scoring2[name] = results"
   ]
  },
  {
   "cell_type": "code",
   "execution_count": 53,
   "metadata": {},
   "outputs": [
    {
     "data": {
      "text/html": [
       "<div>\n",
       "<style scoped>\n",
       "    .dataframe tbody tr th:only-of-type {\n",
       "        vertical-align: middle;\n",
       "    }\n",
       "\n",
       "    .dataframe tbody tr th {\n",
       "        vertical-align: top;\n",
       "    }\n",
       "\n",
       "    .dataframe thead th {\n",
       "        text-align: right;\n",
       "    }\n",
       "</style>\n",
       "<table border=\"1\" class=\"dataframe\">\n",
       "  <thead>\n",
       "    <tr style=\"text-align: right;\">\n",
       "      <th></th>\n",
       "      <th>Metric</th>\n",
       "      <th>GradientBoostingRegressor</th>\n",
       "      <th>RandomForestRegressor</th>\n",
       "      <th>LinearRegression</th>\n",
       "      <th>ElasticNet</th>\n",
       "      <th>Lasso</th>\n",
       "      <th>Ridge</th>\n",
       "      <th>XGBRegressor</th>\n",
       "    </tr>\n",
       "  </thead>\n",
       "  <tbody>\n",
       "    <tr>\n",
       "      <th>0</th>\n",
       "      <td>R2_score</td>\n",
       "      <td>0.878949</td>\n",
       "      <td>0.871537</td>\n",
       "      <td>0.813175</td>\n",
       "      <td>0.806291</td>\n",
       "      <td>0.808963</td>\n",
       "      <td>0.813156</td>\n",
       "      <td>0.841637</td>\n",
       "    </tr>\n",
       "    <tr>\n",
       "      <th>1</th>\n",
       "      <td>MAE</td>\n",
       "      <td>0.038517</td>\n",
       "      <td>0.038861</td>\n",
       "      <td>0.050102</td>\n",
       "      <td>0.051738</td>\n",
       "      <td>0.051329</td>\n",
       "      <td>0.050106</td>\n",
       "      <td>0.042384</td>\n",
       "    </tr>\n",
       "    <tr>\n",
       "      <th>2</th>\n",
       "      <td>MSE</td>\n",
       "      <td>0.002461</td>\n",
       "      <td>0.002612</td>\n",
       "      <td>0.003798</td>\n",
       "      <td>0.003938</td>\n",
       "      <td>0.003884</td>\n",
       "      <td>0.003799</td>\n",
       "      <td>0.003220</td>\n",
       "    </tr>\n",
       "    <tr>\n",
       "      <th>3</th>\n",
       "      <td>RMSE</td>\n",
       "      <td>0.049609</td>\n",
       "      <td>0.051106</td>\n",
       "      <td>0.061631</td>\n",
       "      <td>0.062756</td>\n",
       "      <td>0.062322</td>\n",
       "      <td>0.061634</td>\n",
       "      <td>0.056742</td>\n",
       "    </tr>\n",
       "    <tr>\n",
       "      <th>4</th>\n",
       "      <td>RSS</td>\n",
       "      <td>0.334708</td>\n",
       "      <td>0.355202</td>\n",
       "      <td>0.516575</td>\n",
       "      <td>0.535611</td>\n",
       "      <td>0.528221</td>\n",
       "      <td>0.516627</td>\n",
       "      <td>0.437879</td>\n",
       "    </tr>\n",
       "  </tbody>\n",
       "</table>\n",
       "</div>"
      ],
      "text/plain": [
       "     Metric  GradientBoostingRegressor  RandomForestRegressor   \n",
       "0  R2_score                   0.878949               0.871537  \\\n",
       "1       MAE                   0.038517               0.038861   \n",
       "2       MSE                   0.002461               0.002612   \n",
       "3      RMSE                   0.049609               0.051106   \n",
       "4       RSS                   0.334708               0.355202   \n",
       "\n",
       "   LinearRegression  ElasticNet     Lasso     Ridge  XGBRegressor  \n",
       "0          0.813175    0.806291  0.808963  0.813156      0.841637  \n",
       "1          0.050102    0.051738  0.051329  0.050106      0.042384  \n",
       "2          0.003798    0.003938  0.003884  0.003799      0.003220  \n",
       "3          0.061631    0.062756  0.062322  0.061634      0.056742  \n",
       "4          0.516575    0.535611  0.528221  0.516627      0.437879  "
      ]
     },
     "execution_count": 53,
     "metadata": {},
     "output_type": "execute_result"
    }
   ],
   "source": [
    "scoring2"
   ]
  },
  {
   "cell_type": "markdown",
   "metadata": {},
   "source": [
    "### The second training set makes use of the ages as continuous data."
   ]
  },
  {
   "cell_type": "markdown",
   "metadata": {},
   "source": [
    "### Scaling training data"
   ]
  },
  {
   "cell_type": "code",
   "execution_count": 54,
   "metadata": {},
   "outputs": [],
   "source": [
    "from sklearn.preprocessing import MinMaxScaler"
   ]
  },
  {
   "cell_type": "code",
   "execution_count": 55,
   "metadata": {},
   "outputs": [],
   "source": [
    "scaler = MinMaxScaler()"
   ]
  },
  {
   "cell_type": "code",
   "execution_count": 56,
   "metadata": {},
   "outputs": [],
   "source": [
    "# Fit and transform the training data\n",
    "X1_train_scaled = scaler.fit_transform(X1_train)\n",
    "X1_test_scaled = scaler.fit_transform(X1_test)\n",
    "\n",
    "X2_train_scaled = scaler.fit_transform(X2_train)\n",
    "X2_test_scaled = scaler.fit_transform(X2_test)"
   ]
  },
  {
   "cell_type": "code",
   "execution_count": 57,
   "metadata": {},
   "outputs": [
    {
     "data": {
      "text/plain": [
       "array([[0.4       , 0.33333333, 0.90909091, ..., 0.        , 1.        ,\n",
       "        0.        ],\n",
       "       [0.6       , 0.46666667, 0.78181818, ..., 0.        , 0.        ,\n",
       "        0.        ],\n",
       "       [0.6       , 0.8       , 0.        , ..., 0.        , 1.        ,\n",
       "        0.        ],\n",
       "       ...,\n",
       "       [0.4       , 0.46666667, 0.81818182, ..., 0.        , 1.        ,\n",
       "        0.        ],\n",
       "       [0.4       , 0.86666667, 0.67272727, ..., 1.        , 0.        ,\n",
       "        0.        ],\n",
       "       [0.6       , 0.53333333, 0.72727273, ..., 0.        , 1.        ,\n",
       "        0.        ]])"
      ]
     },
     "execution_count": 57,
     "metadata": {},
     "output_type": "execute_result"
    }
   ],
   "source": [
    "X1_train_scaled"
   ]
  },
  {
   "cell_type": "code",
   "execution_count": 58,
   "metadata": {},
   "outputs": [],
   "source": [
    "scoring3 = pd.DataFrame()\n",
    "scoring3['Metric'] = ['R2_score', 'MAE', 'MSE', 'RMSE', 'RSS']"
   ]
  },
  {
   "cell_type": "code",
   "execution_count": 59,
   "metadata": {},
   "outputs": [
    {
     "name": "stdout",
     "output_type": "stream",
     "text": [
      "Performance of GradientBoostingRegressor on Test:\n",
      "================================================\n",
      "Test set:\n",
      "****************\n",
      "RMSE: 0.05105728653880407\n",
      "R-Squared: 0.8717800693510274\n",
      "MSE: 0.0026068465087055433\n",
      "RSS 0.3545311251839539\n",
      "MAE: 0.0385604992670219\n",
      "\n",
      "Performance of RandomForestRegressor on Test:\n",
      "================================================\n",
      "Test set:\n",
      "****************\n",
      "RMSE: 0.052052890269773645\n",
      "R-Squared: 0.8667308048196469\n",
      "MSE: 0.002709503385437096\n",
      "RSS 0.36849246041944506\n",
      "MAE: 0.039672365196078446\n",
      "\n",
      "Performance of LinearRegression on Test:\n",
      "================================================\n",
      "Test set:\n",
      "****************\n",
      "RMSE: 0.05998465670787572\n",
      "R-Squared: 0.8230215315407112\n",
      "MSE: 0.0035981590403616997\n",
      "RSS 0.48934962948919114\n",
      "MAE: 0.04728284808497739\n",
      "\n",
      "Performance of ElasticNet on Test:\n",
      "================================================\n",
      "Test set:\n",
      "****************\n",
      "RMSE: 0.06034887111274164\n",
      "R-Squared: 0.8208658537641572\n",
      "MSE: 0.0036419862445823026\n",
      "RSS 0.4953101292631932\n",
      "MAE: 0.047919701668878656\n",
      "\n",
      "Performance of Lasso on Test:\n",
      "================================================\n",
      "Test set:\n",
      "****************\n",
      "RMSE: 0.06085796524723712\n",
      "R-Squared: 0.8178308077053609\n",
      "MSE: 0.0037036919340339212\n",
      "RSS 0.5037021030286133\n",
      "MAE: 0.048314564169927354\n",
      "\n",
      "Performance of Ridge on Test:\n",
      "================================================\n",
      "Test set:\n",
      "****************\n",
      "RMSE: 0.059984410659774764\n",
      "R-Squared: 0.8230229834162126\n",
      "MSE: 0.0035981295222005005\n",
      "RSS 0.4893456150192681\n",
      "MAE: 0.047282927615009164\n",
      "\n",
      "Performance of XGBRegressor on Test:\n",
      "================================================\n",
      "Test set:\n",
      "****************\n",
      "RMSE: 0.056611239132680465\n",
      "R-Squared: 0.8423676322322547\n",
      "MSE: 0.003204832396137532\n",
      "RSS 0.43585720587470433\n",
      "MAE: 0.04224326396689696\n",
      "\n"
     ]
    }
   ],
   "source": [
    "# Using the third training set X1_train_scaled\n",
    "for name, func in models.items():\n",
    "    print(f'Performance of {name} on Test:')\n",
    "    print('=='*24)\n",
    "    print ('Test set:')\n",
    "    print(\"**\"*8)\n",
    "    \n",
    "    model = train(func, X1_train_scaled, y_train)\n",
    "    results = score(model, X1_test_scaled, y_test)\n",
    "    scoring3[name] = results"
   ]
  },
  {
   "cell_type": "code",
   "execution_count": 60,
   "metadata": {
    "scrolled": true
   },
   "outputs": [
    {
     "data": {
      "text/html": [
       "<div>\n",
       "<style scoped>\n",
       "    .dataframe tbody tr th:only-of-type {\n",
       "        vertical-align: middle;\n",
       "    }\n",
       "\n",
       "    .dataframe tbody tr th {\n",
       "        vertical-align: top;\n",
       "    }\n",
       "\n",
       "    .dataframe thead th {\n",
       "        text-align: right;\n",
       "    }\n",
       "</style>\n",
       "<table border=\"1\" class=\"dataframe\">\n",
       "  <thead>\n",
       "    <tr style=\"text-align: right;\">\n",
       "      <th></th>\n",
       "      <th>Metric</th>\n",
       "      <th>GradientBoostingRegressor</th>\n",
       "      <th>RandomForestRegressor</th>\n",
       "      <th>LinearRegression</th>\n",
       "      <th>ElasticNet</th>\n",
       "      <th>Lasso</th>\n",
       "      <th>Ridge</th>\n",
       "      <th>XGBRegressor</th>\n",
       "    </tr>\n",
       "  </thead>\n",
       "  <tbody>\n",
       "    <tr>\n",
       "      <th>0</th>\n",
       "      <td>R2_score</td>\n",
       "      <td>0.871780</td>\n",
       "      <td>0.866731</td>\n",
       "      <td>0.823022</td>\n",
       "      <td>0.820866</td>\n",
       "      <td>0.817831</td>\n",
       "      <td>0.823023</td>\n",
       "      <td>0.842368</td>\n",
       "    </tr>\n",
       "    <tr>\n",
       "      <th>1</th>\n",
       "      <td>MAE</td>\n",
       "      <td>0.038560</td>\n",
       "      <td>0.039672</td>\n",
       "      <td>0.047283</td>\n",
       "      <td>0.047920</td>\n",
       "      <td>0.048315</td>\n",
       "      <td>0.047283</td>\n",
       "      <td>0.042243</td>\n",
       "    </tr>\n",
       "    <tr>\n",
       "      <th>2</th>\n",
       "      <td>MSE</td>\n",
       "      <td>0.002607</td>\n",
       "      <td>0.002710</td>\n",
       "      <td>0.003598</td>\n",
       "      <td>0.003642</td>\n",
       "      <td>0.003704</td>\n",
       "      <td>0.003598</td>\n",
       "      <td>0.003205</td>\n",
       "    </tr>\n",
       "    <tr>\n",
       "      <th>3</th>\n",
       "      <td>RMSE</td>\n",
       "      <td>0.051057</td>\n",
       "      <td>0.052053</td>\n",
       "      <td>0.059985</td>\n",
       "      <td>0.060349</td>\n",
       "      <td>0.060858</td>\n",
       "      <td>0.059984</td>\n",
       "      <td>0.056611</td>\n",
       "    </tr>\n",
       "    <tr>\n",
       "      <th>4</th>\n",
       "      <td>RSS</td>\n",
       "      <td>0.354531</td>\n",
       "      <td>0.368492</td>\n",
       "      <td>0.489350</td>\n",
       "      <td>0.495310</td>\n",
       "      <td>0.503702</td>\n",
       "      <td>0.489346</td>\n",
       "      <td>0.435857</td>\n",
       "    </tr>\n",
       "  </tbody>\n",
       "</table>\n",
       "</div>"
      ],
      "text/plain": [
       "     Metric  GradientBoostingRegressor  RandomForestRegressor   \n",
       "0  R2_score                   0.871780               0.866731  \\\n",
       "1       MAE                   0.038560               0.039672   \n",
       "2       MSE                   0.002607               0.002710   \n",
       "3      RMSE                   0.051057               0.052053   \n",
       "4       RSS                   0.354531               0.368492   \n",
       "\n",
       "   LinearRegression  ElasticNet     Lasso     Ridge  XGBRegressor  \n",
       "0          0.823022    0.820866  0.817831  0.823023      0.842368  \n",
       "1          0.047283    0.047920  0.048315  0.047283      0.042243  \n",
       "2          0.003598    0.003642  0.003704  0.003598      0.003205  \n",
       "3          0.059985    0.060349  0.060858  0.059984      0.056611  \n",
       "4          0.489350    0.495310  0.503702  0.489346      0.435857  "
      ]
     },
     "execution_count": 60,
     "metadata": {},
     "output_type": "execute_result"
    }
   ],
   "source": [
    "scoring3"
   ]
  },
  {
   "cell_type": "code",
   "execution_count": 61,
   "metadata": {},
   "outputs": [],
   "source": [
    "scoring4 = pd.DataFrame()\n",
    "scoring4['Metric'] = ['R2_score', 'MAE', 'MSE', 'RMSE', 'RSS']"
   ]
  },
  {
   "cell_type": "code",
   "execution_count": 62,
   "metadata": {},
   "outputs": [
    {
     "name": "stdout",
     "output_type": "stream",
     "text": [
      "Performance of GradientBoostingRegressor on Test:\n",
      "================================================\n",
      "Test set:\n",
      "****************\n",
      "RMSE: 0.0485096673089038\n",
      "R-Squared: 0.8842564844584608\n",
      "MSE: 0.0023531878224205298\n",
      "RSS 0.320033543849192\n",
      "MAE: 0.03665249897752667\n",
      "\n",
      "Performance of RandomForestRegressor on Test:\n",
      "================================================\n",
      "Test set:\n",
      "****************\n",
      "RMSE: 0.05025346490834364\n",
      "R-Squared: 0.8757855561275935\n",
      "MSE: 0.0025254107352941256\n",
      "RSS 0.34345586000000106\n",
      "MAE: 0.03803823529411771\n",
      "\n",
      "Performance of LinearRegression on Test:\n",
      "================================================\n",
      "Test set:\n",
      "****************\n",
      "RMSE: 0.05998733909704735\n",
      "R-Squared: 0.8230057029682789\n",
      "MSE: 0.0035984808519441453\n",
      "RSS 0.4893933958644038\n",
      "MAE: 0.047603163604738624\n",
      "\n",
      "Performance of ElasticNet on Test:\n",
      "================================================\n",
      "Test set:\n",
      "****************\n",
      "RMSE: 0.06011535969005759\n",
      "R-Squared: 0.8222494402732987\n",
      "MSE: 0.0036138564706650004\n",
      "RSS 0.49148448001044004\n",
      "MAE: 0.04820834596154028\n",
      "\n",
      "Performance of Lasso on Test:\n",
      "================================================\n",
      "Test set:\n",
      "****************\n",
      "RMSE: 0.06021830792726798\n",
      "R-Squared: 0.8216401192746154\n",
      "MSE: 0.0036262446096232658\n",
      "RSS 0.4931692669087641\n",
      "MAE: 0.0484034275974973\n",
      "\n",
      "Performance of Ridge on Test:\n",
      "================================================\n",
      "Test set:\n",
      "****************\n",
      "RMSE: 0.05998715918883753\n",
      "R-Squared: 0.8230067646149481\n",
      "MSE: 0.0035984592675469347\n",
      "RSS 0.4893904603863831\n",
      "MAE: 0.04760323399549716\n",
      "\n",
      "Performance of XGBRegressor on Test:\n",
      "================================================\n",
      "Test set:\n",
      "****************\n",
      "RMSE: 0.054720857367811945\n",
      "R-Squared: 0.8527192918636969\n",
      "MSE: 0.0029943722310684187\n",
      "RSS 0.4072346234253049\n",
      "MAE: 0.040295025180367865\n",
      "\n"
     ]
    }
   ],
   "source": [
    "# Using the fourth training set X2_train_scaled\n",
    "for name, func in models.items():\n",
    "    print(f'Performance of {name} on Test:')\n",
    "    print('=='*24)\n",
    "    print ('Test set:')\n",
    "    print(\"**\"*8)\n",
    "    \n",
    "    model = train(func, X2_train_scaled, y_train)\n",
    "    results = score(model, X2_test_scaled, y_test)\n",
    "    scoring4[name] = results"
   ]
  },
  {
   "cell_type": "code",
   "execution_count": 63,
   "metadata": {},
   "outputs": [
    {
     "data": {
      "text/html": [
       "<div>\n",
       "<style scoped>\n",
       "    .dataframe tbody tr th:only-of-type {\n",
       "        vertical-align: middle;\n",
       "    }\n",
       "\n",
       "    .dataframe tbody tr th {\n",
       "        vertical-align: top;\n",
       "    }\n",
       "\n",
       "    .dataframe thead th {\n",
       "        text-align: right;\n",
       "    }\n",
       "</style>\n",
       "<table border=\"1\" class=\"dataframe\">\n",
       "  <thead>\n",
       "    <tr style=\"text-align: right;\">\n",
       "      <th></th>\n",
       "      <th>Metric</th>\n",
       "      <th>GradientBoostingRegressor</th>\n",
       "      <th>RandomForestRegressor</th>\n",
       "      <th>LinearRegression</th>\n",
       "      <th>ElasticNet</th>\n",
       "      <th>Lasso</th>\n",
       "      <th>Ridge</th>\n",
       "      <th>XGBRegressor</th>\n",
       "    </tr>\n",
       "  </thead>\n",
       "  <tbody>\n",
       "    <tr>\n",
       "      <th>0</th>\n",
       "      <td>R2_score</td>\n",
       "      <td>0.884256</td>\n",
       "      <td>0.875786</td>\n",
       "      <td>0.823006</td>\n",
       "      <td>0.822249</td>\n",
       "      <td>0.821640</td>\n",
       "      <td>0.823007</td>\n",
       "      <td>0.852719</td>\n",
       "    </tr>\n",
       "    <tr>\n",
       "      <th>1</th>\n",
       "      <td>MAE</td>\n",
       "      <td>0.036652</td>\n",
       "      <td>0.038038</td>\n",
       "      <td>0.047603</td>\n",
       "      <td>0.048208</td>\n",
       "      <td>0.048403</td>\n",
       "      <td>0.047603</td>\n",
       "      <td>0.040295</td>\n",
       "    </tr>\n",
       "    <tr>\n",
       "      <th>2</th>\n",
       "      <td>MSE</td>\n",
       "      <td>0.002353</td>\n",
       "      <td>0.002525</td>\n",
       "      <td>0.003598</td>\n",
       "      <td>0.003614</td>\n",
       "      <td>0.003626</td>\n",
       "      <td>0.003598</td>\n",
       "      <td>0.002994</td>\n",
       "    </tr>\n",
       "    <tr>\n",
       "      <th>3</th>\n",
       "      <td>RMSE</td>\n",
       "      <td>0.048510</td>\n",
       "      <td>0.050253</td>\n",
       "      <td>0.059987</td>\n",
       "      <td>0.060115</td>\n",
       "      <td>0.060218</td>\n",
       "      <td>0.059987</td>\n",
       "      <td>0.054721</td>\n",
       "    </tr>\n",
       "    <tr>\n",
       "      <th>4</th>\n",
       "      <td>RSS</td>\n",
       "      <td>0.320034</td>\n",
       "      <td>0.343456</td>\n",
       "      <td>0.489393</td>\n",
       "      <td>0.491484</td>\n",
       "      <td>0.493169</td>\n",
       "      <td>0.489390</td>\n",
       "      <td>0.407235</td>\n",
       "    </tr>\n",
       "  </tbody>\n",
       "</table>\n",
       "</div>"
      ],
      "text/plain": [
       "     Metric  GradientBoostingRegressor  RandomForestRegressor   \n",
       "0  R2_score                   0.884256               0.875786  \\\n",
       "1       MAE                   0.036652               0.038038   \n",
       "2       MSE                   0.002353               0.002525   \n",
       "3      RMSE                   0.048510               0.050253   \n",
       "4       RSS                   0.320034               0.343456   \n",
       "\n",
       "   LinearRegression  ElasticNet     Lasso     Ridge  XGBRegressor  \n",
       "0          0.823006    0.822249  0.821640  0.823007      0.852719  \n",
       "1          0.047603    0.048208  0.048403  0.047603      0.040295  \n",
       "2          0.003598    0.003614  0.003626  0.003598      0.002994  \n",
       "3          0.059987    0.060115  0.060218  0.059987      0.054721  \n",
       "4          0.489393    0.491484  0.493169  0.489390      0.407235  "
      ]
     },
     "execution_count": 63,
     "metadata": {},
     "output_type": "execute_result"
    }
   ],
   "source": [
    "scoring4"
   ]
  },
  {
   "cell_type": "markdown",
   "metadata": {},
   "source": [
    "### We select RandomForestRegressor and the scaled dataset of using the ages as continuous data as our best set for the best model scores."
   ]
  },
  {
   "cell_type": "markdown",
   "metadata": {},
   "source": [
    "## Final Model Training"
   ]
  },
  {
   "cell_type": "markdown",
   "metadata": {},
   "source": [
    "### Hyperparameter tuning"
   ]
  },
  {
   "cell_type": "code",
   "execution_count": 64,
   "metadata": {},
   "outputs": [],
   "source": [
    "# Using Grid Search for hyper parameter tuning\n",
    "from sklearn.model_selection import GridSearchCV "
   ]
  },
  {
   "cell_type": "code",
   "execution_count": 65,
   "metadata": {},
   "outputs": [],
   "source": [
    "rf_model = RandomForestRegressor(random_state=42)"
   ]
  },
  {
   "cell_type": "code",
   "execution_count": 66,
   "metadata": {},
   "outputs": [
    {
     "data": {
      "text/plain": [
       "dict_keys(['bootstrap', 'ccp_alpha', 'criterion', 'max_depth', 'max_features', 'max_leaf_nodes', 'max_samples', 'min_impurity_decrease', 'min_samples_leaf', 'min_samples_split', 'min_weight_fraction_leaf', 'n_estimators', 'n_jobs', 'oob_score', 'random_state', 'verbose', 'warm_start'])"
      ]
     },
     "execution_count": 66,
     "metadata": {},
     "output_type": "execute_result"
    }
   ],
   "source": [
    "# Getting parameters of model that can be tuned\n",
    "rf_model.get_params().keys()"
   ]
  },
  {
   "cell_type": "code",
   "execution_count": 67,
   "metadata": {},
   "outputs": [],
   "source": [
    "# We need to find the best parameters of the RF in order to obtain the best possible performance.\n",
    "\n",
    "param_grid = {\n",
    "    'max_depth' : [3,5,7,9,10],\n",
    "    'criterion': ['squared_error', 'absolute_error', 'friedman_mse'],\n",
    "    'n_estimators': [1,2,4,8,10,16,32,64,100,200],\n",
    "    'min_samples_split': [1,2,5,8,10,11,15,20,25,50,55,60,80,100],\n",
    "}"
   ]
  },
  {
   "cell_type": "code",
   "execution_count": 69,
   "metadata": {},
   "outputs": [
    {
     "name": "stdout",
     "output_type": "stream",
     "text": [
      "0.8369003499827905\n",
      "{'criterion': 'friedman_mse', 'max_depth': 9, 'min_samples_split': 11, 'n_estimators': 8}\n"
     ]
    }
   ],
   "source": [
    "####********************************\n",
    "####********************************\n",
    "####********************************\n",
    "\n",
    "####    It will take couple of minutes to compute the result\n",
    "\n",
    "####********************************\n",
    "####********************************\n",
    "####********************************\n",
    "\n",
    "\n",
    "grid_search = GridSearchCV(estimator=rf_model, param_grid=param_grid, scoring='r2',cv=5,n_jobs=3)\n",
    "grid_search.fit(X2_train_scaled,y_train)\n",
    "\n",
    "print(grid_search.best_score_)\n",
    "print(grid_search.best_params_)"
   ]
  },
  {
   "cell_type": "code",
   "execution_count": 70,
   "metadata": {},
   "outputs": [],
   "source": [
    "rf_model_search = RandomForestRegressor(criterion = 'friedman_mse', max_depth = 9,\n",
    "                                       min_samples_split = 8, n_estimators = 8, random_state = 42)"
   ]
  },
  {
   "cell_type": "code",
   "execution_count": 71,
   "metadata": {},
   "outputs": [
    {
     "data": {
      "text/html": [
       "<style>#sk-container-id-1 {color: black;background-color: white;}#sk-container-id-1 pre{padding: 0;}#sk-container-id-1 div.sk-toggleable {background-color: white;}#sk-container-id-1 label.sk-toggleable__label {cursor: pointer;display: block;width: 100%;margin-bottom: 0;padding: 0.3em;box-sizing: border-box;text-align: center;}#sk-container-id-1 label.sk-toggleable__label-arrow:before {content: \"▸\";float: left;margin-right: 0.25em;color: #696969;}#sk-container-id-1 label.sk-toggleable__label-arrow:hover:before {color: black;}#sk-container-id-1 div.sk-estimator:hover label.sk-toggleable__label-arrow:before {color: black;}#sk-container-id-1 div.sk-toggleable__content {max-height: 0;max-width: 0;overflow: hidden;text-align: left;background-color: #f0f8ff;}#sk-container-id-1 div.sk-toggleable__content pre {margin: 0.2em;color: black;border-radius: 0.25em;background-color: #f0f8ff;}#sk-container-id-1 input.sk-toggleable__control:checked~div.sk-toggleable__content {max-height: 200px;max-width: 100%;overflow: auto;}#sk-container-id-1 input.sk-toggleable__control:checked~label.sk-toggleable__label-arrow:before {content: \"▾\";}#sk-container-id-1 div.sk-estimator input.sk-toggleable__control:checked~label.sk-toggleable__label {background-color: #d4ebff;}#sk-container-id-1 div.sk-label input.sk-toggleable__control:checked~label.sk-toggleable__label {background-color: #d4ebff;}#sk-container-id-1 input.sk-hidden--visually {border: 0;clip: rect(1px 1px 1px 1px);clip: rect(1px, 1px, 1px, 1px);height: 1px;margin: -1px;overflow: hidden;padding: 0;position: absolute;width: 1px;}#sk-container-id-1 div.sk-estimator {font-family: monospace;background-color: #f0f8ff;border: 1px dotted black;border-radius: 0.25em;box-sizing: border-box;margin-bottom: 0.5em;}#sk-container-id-1 div.sk-estimator:hover {background-color: #d4ebff;}#sk-container-id-1 div.sk-parallel-item::after {content: \"\";width: 100%;border-bottom: 1px solid gray;flex-grow: 1;}#sk-container-id-1 div.sk-label:hover label.sk-toggleable__label {background-color: #d4ebff;}#sk-container-id-1 div.sk-serial::before {content: \"\";position: absolute;border-left: 1px solid gray;box-sizing: border-box;top: 0;bottom: 0;left: 50%;z-index: 0;}#sk-container-id-1 div.sk-serial {display: flex;flex-direction: column;align-items: center;background-color: white;padding-right: 0.2em;padding-left: 0.2em;position: relative;}#sk-container-id-1 div.sk-item {position: relative;z-index: 1;}#sk-container-id-1 div.sk-parallel {display: flex;align-items: stretch;justify-content: center;background-color: white;position: relative;}#sk-container-id-1 div.sk-item::before, #sk-container-id-1 div.sk-parallel-item::before {content: \"\";position: absolute;border-left: 1px solid gray;box-sizing: border-box;top: 0;bottom: 0;left: 50%;z-index: -1;}#sk-container-id-1 div.sk-parallel-item {display: flex;flex-direction: column;z-index: 1;position: relative;background-color: white;}#sk-container-id-1 div.sk-parallel-item:first-child::after {align-self: flex-end;width: 50%;}#sk-container-id-1 div.sk-parallel-item:last-child::after {align-self: flex-start;width: 50%;}#sk-container-id-1 div.sk-parallel-item:only-child::after {width: 0;}#sk-container-id-1 div.sk-dashed-wrapped {border: 1px dashed gray;margin: 0 0.4em 0.5em 0.4em;box-sizing: border-box;padding-bottom: 0.4em;background-color: white;}#sk-container-id-1 div.sk-label label {font-family: monospace;font-weight: bold;display: inline-block;line-height: 1.2em;}#sk-container-id-1 div.sk-label-container {text-align: center;}#sk-container-id-1 div.sk-container {/* jupyter's `normalize.less` sets `[hidden] { display: none; }` but bootstrap.min.css set `[hidden] { display: none !important; }` so we also need the `!important` here to be able to override the default hidden behavior on the sphinx rendered scikit-learn.org. See: https://github.com/scikit-learn/scikit-learn/issues/21755 */display: inline-block !important;position: relative;}#sk-container-id-1 div.sk-text-repr-fallback {display: none;}</style><div id=\"sk-container-id-1\" class=\"sk-top-container\"><div class=\"sk-text-repr-fallback\"><pre>RandomForestRegressor(criterion=&#x27;friedman_mse&#x27;, max_depth=9,\n",
       "                      min_samples_split=8, n_estimators=8, random_state=42)</pre><b>In a Jupyter environment, please rerun this cell to show the HTML representation or trust the notebook. <br />On GitHub, the HTML representation is unable to render, please try loading this page with nbviewer.org.</b></div><div class=\"sk-container\" hidden><div class=\"sk-item\"><div class=\"sk-estimator sk-toggleable\"><input class=\"sk-toggleable__control sk-hidden--visually\" id=\"sk-estimator-id-1\" type=\"checkbox\" checked><label for=\"sk-estimator-id-1\" class=\"sk-toggleable__label sk-toggleable__label-arrow\">RandomForestRegressor</label><div class=\"sk-toggleable__content\"><pre>RandomForestRegressor(criterion=&#x27;friedman_mse&#x27;, max_depth=9,\n",
       "                      min_samples_split=8, n_estimators=8, random_state=42)</pre></div></div></div></div></div>"
      ],
      "text/plain": [
       "RandomForestRegressor(criterion='friedman_mse', max_depth=9,\n",
       "                      min_samples_split=8, n_estimators=8, random_state=42)"
      ]
     },
     "execution_count": 71,
     "metadata": {},
     "output_type": "execute_result"
    }
   ],
   "source": [
    "rf_model_search.fit(X2_train_scaled, y_train)"
   ]
  },
  {
   "cell_type": "code",
   "execution_count": 72,
   "metadata": {},
   "outputs": [
    {
     "name": "stdout",
     "output_type": "stream",
     "text": [
      "RMSE: 0.051384842869019426\n",
      "R-Squared: 0.8701296106134643\n",
      "MSE: 0.0026404020766738166\n",
      "RSS 0.3590946824276391\n",
      "MAE: 0.0396905195870276\n",
      "\n"
     ]
    }
   ],
   "source": [
    "result = score(rf_model_search, X2_test_scaled, y_test)"
   ]
  },
  {
   "cell_type": "code",
   "execution_count": 73,
   "metadata": {},
   "outputs": [],
   "source": [
    "scores = pd.DataFrame()\n",
    "scores['Metric'] = ['R2_score', 'MAE', 'MSE', 'RMSE', 'RSS']\n",
    "scores['RandomForestRegressor'] = result"
   ]
  },
  {
   "cell_type": "code",
   "execution_count": 74,
   "metadata": {},
   "outputs": [
    {
     "data": {
      "text/html": [
       "<div>\n",
       "<style scoped>\n",
       "    .dataframe tbody tr th:only-of-type {\n",
       "        vertical-align: middle;\n",
       "    }\n",
       "\n",
       "    .dataframe tbody tr th {\n",
       "        vertical-align: top;\n",
       "    }\n",
       "\n",
       "    .dataframe thead th {\n",
       "        text-align: right;\n",
       "    }\n",
       "</style>\n",
       "<table border=\"1\" class=\"dataframe\">\n",
       "  <thead>\n",
       "    <tr style=\"text-align: right;\">\n",
       "      <th></th>\n",
       "      <th>Metric</th>\n",
       "      <th>RandomForestRegressor</th>\n",
       "    </tr>\n",
       "  </thead>\n",
       "  <tbody>\n",
       "    <tr>\n",
       "      <th>0</th>\n",
       "      <td>R2_score</td>\n",
       "      <td>0.870130</td>\n",
       "    </tr>\n",
       "    <tr>\n",
       "      <th>1</th>\n",
       "      <td>MAE</td>\n",
       "      <td>0.039691</td>\n",
       "    </tr>\n",
       "    <tr>\n",
       "      <th>2</th>\n",
       "      <td>MSE</td>\n",
       "      <td>0.002640</td>\n",
       "    </tr>\n",
       "    <tr>\n",
       "      <th>3</th>\n",
       "      <td>RMSE</td>\n",
       "      <td>0.051385</td>\n",
       "    </tr>\n",
       "    <tr>\n",
       "      <th>4</th>\n",
       "      <td>RSS</td>\n",
       "      <td>0.359095</td>\n",
       "    </tr>\n",
       "  </tbody>\n",
       "</table>\n",
       "</div>"
      ],
      "text/plain": [
       "     Metric  RandomForestRegressor\n",
       "0  R2_score               0.870130\n",
       "1       MAE               0.039691\n",
       "2       MSE               0.002640\n",
       "3      RMSE               0.051385\n",
       "4       RSS               0.359095"
      ]
     },
     "execution_count": 74,
     "metadata": {},
     "output_type": "execute_result"
    }
   ],
   "source": [
    "scores"
   ]
  },
  {
   "cell_type": "markdown",
   "metadata": {},
   "source": [
    "### The metrics above tell us that training the model with the default values of its hyper parameters give us a better metric than other set of values after performing hyperparameter tuning using Grid Search."
   ]
  },
  {
   "cell_type": "markdown",
   "metadata": {},
   "source": [
    "### Final model"
   ]
  },
  {
   "cell_type": "code",
   "execution_count": 75,
   "metadata": {},
   "outputs": [
    {
     "data": {
      "text/html": [
       "<style>#sk-container-id-2 {color: black;background-color: white;}#sk-container-id-2 pre{padding: 0;}#sk-container-id-2 div.sk-toggleable {background-color: white;}#sk-container-id-2 label.sk-toggleable__label {cursor: pointer;display: block;width: 100%;margin-bottom: 0;padding: 0.3em;box-sizing: border-box;text-align: center;}#sk-container-id-2 label.sk-toggleable__label-arrow:before {content: \"▸\";float: left;margin-right: 0.25em;color: #696969;}#sk-container-id-2 label.sk-toggleable__label-arrow:hover:before {color: black;}#sk-container-id-2 div.sk-estimator:hover label.sk-toggleable__label-arrow:before {color: black;}#sk-container-id-2 div.sk-toggleable__content {max-height: 0;max-width: 0;overflow: hidden;text-align: left;background-color: #f0f8ff;}#sk-container-id-2 div.sk-toggleable__content pre {margin: 0.2em;color: black;border-radius: 0.25em;background-color: #f0f8ff;}#sk-container-id-2 input.sk-toggleable__control:checked~div.sk-toggleable__content {max-height: 200px;max-width: 100%;overflow: auto;}#sk-container-id-2 input.sk-toggleable__control:checked~label.sk-toggleable__label-arrow:before {content: \"▾\";}#sk-container-id-2 div.sk-estimator input.sk-toggleable__control:checked~label.sk-toggleable__label {background-color: #d4ebff;}#sk-container-id-2 div.sk-label input.sk-toggleable__control:checked~label.sk-toggleable__label {background-color: #d4ebff;}#sk-container-id-2 input.sk-hidden--visually {border: 0;clip: rect(1px 1px 1px 1px);clip: rect(1px, 1px, 1px, 1px);height: 1px;margin: -1px;overflow: hidden;padding: 0;position: absolute;width: 1px;}#sk-container-id-2 div.sk-estimator {font-family: monospace;background-color: #f0f8ff;border: 1px dotted black;border-radius: 0.25em;box-sizing: border-box;margin-bottom: 0.5em;}#sk-container-id-2 div.sk-estimator:hover {background-color: #d4ebff;}#sk-container-id-2 div.sk-parallel-item::after {content: \"\";width: 100%;border-bottom: 1px solid gray;flex-grow: 1;}#sk-container-id-2 div.sk-label:hover label.sk-toggleable__label {background-color: #d4ebff;}#sk-container-id-2 div.sk-serial::before {content: \"\";position: absolute;border-left: 1px solid gray;box-sizing: border-box;top: 0;bottom: 0;left: 50%;z-index: 0;}#sk-container-id-2 div.sk-serial {display: flex;flex-direction: column;align-items: center;background-color: white;padding-right: 0.2em;padding-left: 0.2em;position: relative;}#sk-container-id-2 div.sk-item {position: relative;z-index: 1;}#sk-container-id-2 div.sk-parallel {display: flex;align-items: stretch;justify-content: center;background-color: white;position: relative;}#sk-container-id-2 div.sk-item::before, #sk-container-id-2 div.sk-parallel-item::before {content: \"\";position: absolute;border-left: 1px solid gray;box-sizing: border-box;top: 0;bottom: 0;left: 50%;z-index: -1;}#sk-container-id-2 div.sk-parallel-item {display: flex;flex-direction: column;z-index: 1;position: relative;background-color: white;}#sk-container-id-2 div.sk-parallel-item:first-child::after {align-self: flex-end;width: 50%;}#sk-container-id-2 div.sk-parallel-item:last-child::after {align-self: flex-start;width: 50%;}#sk-container-id-2 div.sk-parallel-item:only-child::after {width: 0;}#sk-container-id-2 div.sk-dashed-wrapped {border: 1px dashed gray;margin: 0 0.4em 0.5em 0.4em;box-sizing: border-box;padding-bottom: 0.4em;background-color: white;}#sk-container-id-2 div.sk-label label {font-family: monospace;font-weight: bold;display: inline-block;line-height: 1.2em;}#sk-container-id-2 div.sk-label-container {text-align: center;}#sk-container-id-2 div.sk-container {/* jupyter's `normalize.less` sets `[hidden] { display: none; }` but bootstrap.min.css set `[hidden] { display: none !important; }` so we also need the `!important` here to be able to override the default hidden behavior on the sphinx rendered scikit-learn.org. See: https://github.com/scikit-learn/scikit-learn/issues/21755 */display: inline-block !important;position: relative;}#sk-container-id-2 div.sk-text-repr-fallback {display: none;}</style><div id=\"sk-container-id-2\" class=\"sk-top-container\"><div class=\"sk-text-repr-fallback\"><pre>RandomForestRegressor(random_state=42)</pre><b>In a Jupyter environment, please rerun this cell to show the HTML representation or trust the notebook. <br />On GitHub, the HTML representation is unable to render, please try loading this page with nbviewer.org.</b></div><div class=\"sk-container\" hidden><div class=\"sk-item\"><div class=\"sk-estimator sk-toggleable\"><input class=\"sk-toggleable__control sk-hidden--visually\" id=\"sk-estimator-id-2\" type=\"checkbox\" checked><label for=\"sk-estimator-id-2\" class=\"sk-toggleable__label sk-toggleable__label-arrow\">RandomForestRegressor</label><div class=\"sk-toggleable__content\"><pre>RandomForestRegressor(random_state=42)</pre></div></div></div></div></div>"
      ],
      "text/plain": [
       "RandomForestRegressor(random_state=42)"
      ]
     },
     "execution_count": 75,
     "metadata": {},
     "output_type": "execute_result"
    }
   ],
   "source": [
    "rf_model_final = RandomForestRegressor(random_state=42)\n",
    "rf_model_final.fit(X2_train_scaled, y_train)"
   ]
  },
  {
   "cell_type": "code",
   "execution_count": 76,
   "metadata": {},
   "outputs": [
    {
     "name": "stdout",
     "output_type": "stream",
     "text": [
      "RMSE: 0.05025346490834364\n",
      "R-Squared: 0.8757855561275935\n",
      "MSE: 0.0025254107352941256\n",
      "RSS 0.34345586000000106\n",
      "MAE: 0.03803823529411771\n",
      "\n"
     ]
    }
   ],
   "source": [
    "pred_final = rf_model_final.predict(X2_test_scaled)\n",
    "result_final = score(rf_model_final, X2_test_scaled, y_test)"
   ]
  },
  {
   "cell_type": "code",
   "execution_count": 77,
   "metadata": {},
   "outputs": [
    {
     "data": {
      "text/html": [
       "<div>\n",
       "<style scoped>\n",
       "    .dataframe tbody tr th:only-of-type {\n",
       "        vertical-align: middle;\n",
       "    }\n",
       "\n",
       "    .dataframe tbody tr th {\n",
       "        vertical-align: top;\n",
       "    }\n",
       "\n",
       "    .dataframe thead th {\n",
       "        text-align: right;\n",
       "    }\n",
       "</style>\n",
       "<table border=\"1\" class=\"dataframe\">\n",
       "  <thead>\n",
       "    <tr style=\"text-align: right;\">\n",
       "      <th></th>\n",
       "      <th>Metric</th>\n",
       "      <th>RandomForestRegressor</th>\n",
       "    </tr>\n",
       "  </thead>\n",
       "  <tbody>\n",
       "    <tr>\n",
       "      <th>0</th>\n",
       "      <td>R2_score</td>\n",
       "      <td>0.875786</td>\n",
       "    </tr>\n",
       "    <tr>\n",
       "      <th>1</th>\n",
       "      <td>MAE</td>\n",
       "      <td>0.038038</td>\n",
       "    </tr>\n",
       "    <tr>\n",
       "      <th>2</th>\n",
       "      <td>MSE</td>\n",
       "      <td>0.002525</td>\n",
       "    </tr>\n",
       "    <tr>\n",
       "      <th>3</th>\n",
       "      <td>RMSE</td>\n",
       "      <td>0.050253</td>\n",
       "    </tr>\n",
       "    <tr>\n",
       "      <th>4</th>\n",
       "      <td>RSS</td>\n",
       "      <td>0.343456</td>\n",
       "    </tr>\n",
       "  </tbody>\n",
       "</table>\n",
       "</div>"
      ],
      "text/plain": [
       "     Metric  RandomForestRegressor\n",
       "0  R2_score               0.875786\n",
       "1       MAE               0.038038\n",
       "2       MSE               0.002525\n",
       "3      RMSE               0.050253\n",
       "4       RSS               0.343456"
      ]
     },
     "execution_count": 77,
     "metadata": {},
     "output_type": "execute_result"
    }
   ],
   "source": [
    "final_scores = pd.DataFrame()\n",
    "final_scores['Metric'] = ['R2_score', 'MAE', 'MSE', 'RMSE', 'RSS']\n",
    "final_scores['RandomForestRegressor'] = result_final\n",
    "\n",
    "final_scores"
   ]
  },
  {
   "cell_type": "markdown",
   "metadata": {},
   "source": [
    "## 6.***Conclusion***\n",
    "### *After model evaluation, we get an R-squared score of 88%. This tells us that the variance of the data from the mean of Sleep efficiency is reduced by 88% and with a Root Mean-squared error of 0.05%, it shows that the predictions are very close to the actual values in the test set that was sampled for evaluation.*"
   ]
  },
  {
   "cell_type": "code",
   "execution_count": null,
   "metadata": {},
   "outputs": [],
   "source": []
  }
 ],
 "metadata": {
  "kernelspec": {
   "display_name": "Python 3 (ipykernel)",
   "language": "python",
   "name": "python3"
  },
  "language_info": {
   "codemirror_mode": {
    "name": "ipython",
    "version": 3
   },
   "file_extension": ".py",
   "mimetype": "text/x-python",
   "name": "python",
   "nbconvert_exporter": "python",
   "pygments_lexer": "ipython3",
   "version": "3.11.2"
  }
 },
 "nbformat": 4,
 "nbformat_minor": 4
}
